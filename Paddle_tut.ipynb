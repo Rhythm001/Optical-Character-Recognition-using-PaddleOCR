{
  "nbformat": 4,
  "nbformat_minor": 0,
  "metadata": {
    "colab": {
      "provenance": [],
      "authorship_tag": "ABX9TyOeIMq2b+N9t2w7CljzGL/u",
      "include_colab_link": true
    },
    "kernelspec": {
      "name": "python3",
      "display_name": "Python 3"
    },
    "language_info": {
      "name": "python"
    }
  },
  "cells": [
    {
      "cell_type": "markdown",
      "metadata": {
        "id": "view-in-github",
        "colab_type": "text"
      },
      "source": [
        "<a href=\"https://colab.research.google.com/github/Rhythm001/Optical-Character-Recognition-using-PaddleOCR/blob/main/Paddle_tut.ipynb\" target=\"_parent\"><img src=\"https://colab.research.google.com/assets/colab-badge.svg\" alt=\"Open In Colab\"/></a>"
      ]
    },
    {
      "cell_type": "code",
      "execution_count": 1,
      "metadata": {
        "colab": {
          "base_uri": "https://localhost:8080/"
        },
        "id": "DdxmAfr2hTYd",
        "outputId": "4af38d72-e1cc-4ef6-f35e-764d6de69a1d"
      },
      "outputs": [
        {
          "output_type": "stream",
          "name": "stdout",
          "text": [
            "Looking in indexes: https://pypi.tuna.tsinghua.edu.cn/simple\n",
            "Collecting paddlepaddle\n",
            "  Downloading https://pypi.tuna.tsinghua.edu.cn/packages/ce/8c/e0003e2cbc79211d7758c395f335e3d27270e7b55c5a9387cfaf4815c919/paddlepaddle-2.6.1-cp310-cp310-manylinux1_x86_64.whl (125.9 MB)\n",
            "\u001b[2K     \u001b[90m━━━━━━━━━━━━━━━━━━━━━━━━━━━━━━━━━━━━━━━━\u001b[0m \u001b[32m125.9/125.9 MB\u001b[0m \u001b[31m3.7 MB/s\u001b[0m eta \u001b[36m0:00:00\u001b[0m\n",
            "\u001b[?25hCollecting httpx (from paddlepaddle)\n",
            "  Downloading https://pypi.tuna.tsinghua.edu.cn/packages/41/7b/ddacf6dcebb42466abd03f368782142baa82e08fc0c1f8eaa05b4bae87d5/httpx-0.27.0-py3-none-any.whl (75 kB)\n",
            "\u001b[2K     \u001b[90m━━━━━━━━━━━━━━━━━━━━━━━━━━━━━━━━━━━━━━━━\u001b[0m \u001b[32m75.6/75.6 kB\u001b[0m \u001b[31m3.0 MB/s\u001b[0m eta \u001b[36m0:00:00\u001b[0m\n",
            "\u001b[?25hRequirement already satisfied: numpy>=1.13 in /usr/local/lib/python3.10/dist-packages (from paddlepaddle) (1.26.4)\n",
            "Requirement already satisfied: Pillow in /usr/local/lib/python3.10/dist-packages (from paddlepaddle) (9.4.0)\n",
            "Requirement already satisfied: decorator in /usr/local/lib/python3.10/dist-packages (from paddlepaddle) (4.4.2)\n",
            "Collecting astor (from paddlepaddle)\n",
            "  Downloading https://pypi.tuna.tsinghua.edu.cn/packages/c3/88/97eef84f48fa04fbd6750e62dcceafba6c63c81b7ac1420856c8dcc0a3f9/astor-0.8.1-py2.py3-none-any.whl (27 kB)\n",
            "Requirement already satisfied: opt-einsum==3.3.0 in /usr/local/lib/python3.10/dist-packages (from paddlepaddle) (3.3.0)\n",
            "Requirement already satisfied: protobuf>=3.20.2 in /usr/local/lib/python3.10/dist-packages (from paddlepaddle) (3.20.3)\n",
            "Requirement already satisfied: anyio in /usr/local/lib/python3.10/dist-packages (from httpx->paddlepaddle) (3.7.1)\n",
            "Requirement already satisfied: certifi in /usr/local/lib/python3.10/dist-packages (from httpx->paddlepaddle) (2024.7.4)\n",
            "Collecting httpcore==1.* (from httpx->paddlepaddle)\n",
            "  Downloading https://pypi.tuna.tsinghua.edu.cn/packages/78/d4/e5d7e4f2174f8a4d63c8897d79eb8fe2503f7ecc03282fee1fa2719c2704/httpcore-1.0.5-py3-none-any.whl (77 kB)\n",
            "\u001b[2K     \u001b[90m━━━━━━━━━━━━━━━━━━━━━━━━━━━━━━━━━━━━━━━━\u001b[0m \u001b[32m77.9/77.9 kB\u001b[0m \u001b[31m5.2 MB/s\u001b[0m eta \u001b[36m0:00:00\u001b[0m\n",
            "\u001b[?25hRequirement already satisfied: idna in /usr/local/lib/python3.10/dist-packages (from httpx->paddlepaddle) (3.7)\n",
            "Requirement already satisfied: sniffio in /usr/local/lib/python3.10/dist-packages (from httpx->paddlepaddle) (1.3.1)\n",
            "Collecting h11<0.15,>=0.13 (from httpcore==1.*->httpx->paddlepaddle)\n",
            "  Downloading https://pypi.tuna.tsinghua.edu.cn/packages/95/04/ff642e65ad6b90db43e668d70ffb6736436c7ce41fcc549f4e9472234127/h11-0.14.0-py3-none-any.whl (58 kB)\n",
            "\u001b[2K     \u001b[90m━━━━━━━━━━━━━━━━━━━━━━━━━━━━━━━━━━━━━━━━\u001b[0m \u001b[32m58.3/58.3 kB\u001b[0m \u001b[31m1.7 MB/s\u001b[0m eta \u001b[36m0:00:00\u001b[0m\n",
            "\u001b[?25hRequirement already satisfied: exceptiongroup in /usr/local/lib/python3.10/dist-packages (from anyio->httpx->paddlepaddle) (1.2.2)\n",
            "Installing collected packages: h11, astor, httpcore, httpx, paddlepaddle\n",
            "Successfully installed astor-0.8.1 h11-0.14.0 httpcore-1.0.5 httpx-0.27.0 paddlepaddle-2.6.1\n"
          ]
        }
      ],
      "source": [
        "!python3 -m pip install paddlepaddle -i https://pypi.tuna.tsinghua.edu.cn/simple"
      ]
    },
    {
      "cell_type": "code",
      "source": [
        "pip install \"paddleocr>=2.0.1\" # Recommend to use version 2.0.1+"
      ],
      "metadata": {
        "colab": {
          "base_uri": "https://localhost:8080/"
        },
        "id": "IyCikLDAiGuV",
        "outputId": "7fdca1d3-700d-4125-8332-4b63df2abc31"
      },
      "execution_count": 2,
      "outputs": [
        {
          "output_type": "stream",
          "name": "stdout",
          "text": [
            "Collecting paddleocr>=2.0.1\n",
            "  Downloading paddleocr-2.8.1-py3-none-any.whl.metadata (19 kB)\n",
            "Requirement already satisfied: shapely in /usr/local/lib/python3.10/dist-packages (from paddleocr>=2.0.1) (2.0.5)\n",
            "Requirement already satisfied: scikit-image in /usr/local/lib/python3.10/dist-packages (from paddleocr>=2.0.1) (0.23.2)\n",
            "Requirement already satisfied: imgaug in /usr/local/lib/python3.10/dist-packages (from paddleocr>=2.0.1) (0.4.0)\n",
            "Collecting pyclipper (from paddleocr>=2.0.1)\n",
            "  Downloading pyclipper-1.3.0.post5-cp310-cp310-manylinux_2_12_x86_64.manylinux2010_x86_64.whl.metadata (9.0 kB)\n",
            "Collecting lmdb (from paddleocr>=2.0.1)\n",
            "  Downloading lmdb-1.5.1-cp310-cp310-manylinux_2_17_x86_64.manylinux2014_x86_64.whl.metadata (1.1 kB)\n",
            "Requirement already satisfied: tqdm in /usr/local/lib/python3.10/dist-packages (from paddleocr>=2.0.1) (4.66.5)\n",
            "Requirement already satisfied: numpy<2.0 in /usr/local/lib/python3.10/dist-packages (from paddleocr>=2.0.1) (1.26.4)\n",
            "Collecting rapidfuzz (from paddleocr>=2.0.1)\n",
            "  Downloading rapidfuzz-3.9.6-cp310-cp310-manylinux_2_17_x86_64.manylinux2014_x86_64.whl.metadata (12 kB)\n",
            "Requirement already satisfied: opencv-python in /usr/local/lib/python3.10/dist-packages (from paddleocr>=2.0.1) (4.10.0.84)\n",
            "Requirement already satisfied: opencv-contrib-python in /usr/local/lib/python3.10/dist-packages (from paddleocr>=2.0.1) (4.10.0.84)\n",
            "Requirement already satisfied: cython in /usr/local/lib/python3.10/dist-packages (from paddleocr>=2.0.1) (3.0.11)\n",
            "Requirement already satisfied: Pillow in /usr/local/lib/python3.10/dist-packages (from paddleocr>=2.0.1) (9.4.0)\n",
            "Requirement already satisfied: pyyaml in /usr/local/lib/python3.10/dist-packages (from paddleocr>=2.0.1) (6.0.2)\n",
            "Collecting python-docx (from paddleocr>=2.0.1)\n",
            "  Downloading python_docx-1.1.2-py3-none-any.whl.metadata (2.0 kB)\n",
            "Requirement already satisfied: beautifulsoup4 in /usr/local/lib/python3.10/dist-packages (from paddleocr>=2.0.1) (4.12.3)\n",
            "Requirement already satisfied: fonttools>=4.24.0 in /usr/local/lib/python3.10/dist-packages (from paddleocr>=2.0.1) (4.53.1)\n",
            "Collecting fire>=0.3.0 (from paddleocr>=2.0.1)\n",
            "  Downloading fire-0.6.0.tar.gz (88 kB)\n",
            "\u001b[2K     \u001b[90m━━━━━━━━━━━━━━━━━━━━━━━━━━━━━━━━━━━━━━━━\u001b[0m \u001b[32m88.4/88.4 kB\u001b[0m \u001b[31m4.2 MB/s\u001b[0m eta \u001b[36m0:00:00\u001b[0m\n",
            "\u001b[?25h  Preparing metadata (setup.py) ... \u001b[?25l\u001b[?25hdone\n",
            "Requirement already satisfied: requests in /usr/local/lib/python3.10/dist-packages (from paddleocr>=2.0.1) (2.32.3)\n",
            "Requirement already satisfied: six in /usr/local/lib/python3.10/dist-packages (from fire>=0.3.0->paddleocr>=2.0.1) (1.16.0)\n",
            "Requirement already satisfied: termcolor in /usr/local/lib/python3.10/dist-packages (from fire>=0.3.0->paddleocr>=2.0.1) (2.4.0)\n",
            "Requirement already satisfied: soupsieve>1.2 in /usr/local/lib/python3.10/dist-packages (from beautifulsoup4->paddleocr>=2.0.1) (2.5)\n",
            "Requirement already satisfied: scipy in /usr/local/lib/python3.10/dist-packages (from imgaug->paddleocr>=2.0.1) (1.13.1)\n",
            "Requirement already satisfied: matplotlib in /usr/local/lib/python3.10/dist-packages (from imgaug->paddleocr>=2.0.1) (3.7.1)\n",
            "Requirement already satisfied: imageio in /usr/local/lib/python3.10/dist-packages (from imgaug->paddleocr>=2.0.1) (2.34.2)\n",
            "Requirement already satisfied: networkx>=2.8 in /usr/local/lib/python3.10/dist-packages (from scikit-image->paddleocr>=2.0.1) (3.3)\n",
            "Requirement already satisfied: tifffile>=2022.8.12 in /usr/local/lib/python3.10/dist-packages (from scikit-image->paddleocr>=2.0.1) (2024.7.24)\n",
            "Requirement already satisfied: packaging>=21 in /usr/local/lib/python3.10/dist-packages (from scikit-image->paddleocr>=2.0.1) (24.1)\n",
            "Requirement already satisfied: lazy-loader>=0.4 in /usr/local/lib/python3.10/dist-packages (from scikit-image->paddleocr>=2.0.1) (0.4)\n",
            "Requirement already satisfied: lxml>=3.1.0 in /usr/local/lib/python3.10/dist-packages (from python-docx->paddleocr>=2.0.1) (4.9.4)\n",
            "Requirement already satisfied: typing-extensions>=4.9.0 in /usr/local/lib/python3.10/dist-packages (from python-docx->paddleocr>=2.0.1) (4.12.2)\n",
            "Requirement already satisfied: charset-normalizer<4,>=2 in /usr/local/lib/python3.10/dist-packages (from requests->paddleocr>=2.0.1) (3.3.2)\n",
            "Requirement already satisfied: idna<4,>=2.5 in /usr/local/lib/python3.10/dist-packages (from requests->paddleocr>=2.0.1) (3.7)\n",
            "Requirement already satisfied: urllib3<3,>=1.21.1 in /usr/local/lib/python3.10/dist-packages (from requests->paddleocr>=2.0.1) (2.0.7)\n",
            "Requirement already satisfied: certifi>=2017.4.17 in /usr/local/lib/python3.10/dist-packages (from requests->paddleocr>=2.0.1) (2024.7.4)\n",
            "Requirement already satisfied: contourpy>=1.0.1 in /usr/local/lib/python3.10/dist-packages (from matplotlib->imgaug->paddleocr>=2.0.1) (1.2.1)\n",
            "Requirement already satisfied: cycler>=0.10 in /usr/local/lib/python3.10/dist-packages (from matplotlib->imgaug->paddleocr>=2.0.1) (0.12.1)\n",
            "Requirement already satisfied: kiwisolver>=1.0.1 in /usr/local/lib/python3.10/dist-packages (from matplotlib->imgaug->paddleocr>=2.0.1) (1.4.5)\n",
            "Requirement already satisfied: pyparsing>=2.3.1 in /usr/local/lib/python3.10/dist-packages (from matplotlib->imgaug->paddleocr>=2.0.1) (3.1.2)\n",
            "Requirement already satisfied: python-dateutil>=2.7 in /usr/local/lib/python3.10/dist-packages (from matplotlib->imgaug->paddleocr>=2.0.1) (2.8.2)\n",
            "Downloading paddleocr-2.8.1-py3-none-any.whl (407 kB)\n",
            "\u001b[2K   \u001b[90m━━━━━━━━━━━━━━━━━━━━━━━━━━━━━━━━━━━━━━━━\u001b[0m \u001b[32m407.5/407.5 kB\u001b[0m \u001b[31m1.6 MB/s\u001b[0m eta \u001b[36m0:00:00\u001b[0m\n",
            "\u001b[?25hDownloading lmdb-1.5.1-cp310-cp310-manylinux_2_17_x86_64.manylinux2014_x86_64.whl (294 kB)\n",
            "\u001b[2K   \u001b[90m━━━━━━━━━━━━━━━━━━━━━━━━━━━━━━━━━━━━━━━━\u001b[0m \u001b[32m294.9/294.9 kB\u001b[0m \u001b[31m13.7 MB/s\u001b[0m eta \u001b[36m0:00:00\u001b[0m\n",
            "\u001b[?25hDownloading pyclipper-1.3.0.post5-cp310-cp310-manylinux_2_12_x86_64.manylinux2010_x86_64.whl (908 kB)\n",
            "\u001b[2K   \u001b[90m━━━━━━━━━━━━━━━━━━━━━━━━━━━━━━━━━━━━━━━━\u001b[0m \u001b[32m908.3/908.3 kB\u001b[0m \u001b[31m8.6 MB/s\u001b[0m eta \u001b[36m0:00:00\u001b[0m\n",
            "\u001b[?25hDownloading python_docx-1.1.2-py3-none-any.whl (244 kB)\n",
            "\u001b[2K   \u001b[90m━━━━━━━━━━━━━━━━━━━━━━━━━━━━━━━━━━━━━━━━\u001b[0m \u001b[32m244.3/244.3 kB\u001b[0m \u001b[31m8.0 MB/s\u001b[0m eta \u001b[36m0:00:00\u001b[0m\n",
            "\u001b[?25hDownloading rapidfuzz-3.9.6-cp310-cp310-manylinux_2_17_x86_64.manylinux2014_x86_64.whl (3.4 MB)\n",
            "\u001b[2K   \u001b[90m━━━━━━━━━━━━━━━━━━━━━━━━━━━━━━━━━━━━━━━━\u001b[0m \u001b[32m3.4/3.4 MB\u001b[0m \u001b[31m37.2 MB/s\u001b[0m eta \u001b[36m0:00:00\u001b[0m\n",
            "\u001b[?25hBuilding wheels for collected packages: fire\n",
            "  Building wheel for fire (setup.py) ... \u001b[?25l\u001b[?25hdone\n",
            "  Created wheel for fire: filename=fire-0.6.0-py2.py3-none-any.whl size=117030 sha256=3e871c44a7e6f71069ac99810a1972011102be3f12e62ed57ec48b2103e0f16f\n",
            "  Stored in directory: /root/.cache/pip/wheels/d6/6d/5d/5b73fa0f46d01a793713f8859201361e9e581ced8c75e5c6a3\n",
            "Successfully built fire\n",
            "Installing collected packages: pyclipper, lmdb, rapidfuzz, python-docx, fire, paddleocr\n",
            "Successfully installed fire-0.6.0 lmdb-1.5.1 paddleocr-2.8.1 pyclipper-1.3.0.post5 python-docx-1.1.2 rapidfuzz-3.9.6\n"
          ]
        }
      ]
    },
    {
      "cell_type": "code",
      "source": [
        "from google.colab import drive\n",
        "drive.mount('/content/drive')"
      ],
      "metadata": {
        "id": "El2_ryR3jPXK",
        "colab": {
          "base_uri": "https://localhost:8080/"
        },
        "outputId": "5e8c02ab-276d-4c18-e243-f58284b7b58c"
      },
      "execution_count": 3,
      "outputs": [
        {
          "output_type": "stream",
          "name": "stdout",
          "text": [
            "Mounted at /content/drive\n"
          ]
        }
      ]
    },
    {
      "cell_type": "markdown",
      "source": [
        "**Detection angle classification and recognition**"
      ],
      "metadata": {
        "id": "LWM9jXgY2Fwt"
      }
    },
    {
      "cell_type": "code",
      "source": [
        "!paddleocr --image_dir /content/drive/MyDrive/Paddle_Tut/ppocr_img/imgs_en/Ocr_demo.pdf --use_angle_cls true --lang en --use_gpu false"
      ],
      "metadata": {
        "colab": {
          "base_uri": "https://localhost:8080/"
        },
        "id": "tsP8-h3x7KDR",
        "outputId": "c9b1c559-ca0f-45fd-bf75-8b45364ee183"
      },
      "execution_count": 4,
      "outputs": [
        {
          "output_type": "stream",
          "name": "stdout",
          "text": [
            "download https://paddleocr.bj.bcebos.com/PP-OCRv3/english/en_PP-OCRv3_det_infer.tar to /root/.paddleocr/whl/det/en/en_PP-OCRv3_det_infer/en_PP-OCRv3_det_infer.tar\n",
            "100% 4.00M/4.00M [00:16<00:00, 243kiB/s] \n",
            "download https://paddleocr.bj.bcebos.com/PP-OCRv4/english/en_PP-OCRv4_rec_infer.tar to /root/.paddleocr/whl/rec/en/en_PP-OCRv4_rec_infer/en_PP-OCRv4_rec_infer.tar\n",
            "100% 10.2M/10.2M [00:13<00:00, 752kiB/s] \n",
            "download https://paddleocr.bj.bcebos.com/dygraph_v2.0/ch/ch_ppocr_mobile_v2.0_cls_infer.tar to /root/.paddleocr/whl/cls/ch_ppocr_mobile_v2.0_cls_infer/ch_ppocr_mobile_v2.0_cls_infer.tar\n",
            "100% 2.19M/2.19M [00:15<00:00, 142kiB/s]\n",
            "[2024/08/11 15:53:56] ppocr DEBUG: Namespace(help='==SUPPRESS==', use_gpu=False, use_xpu=False, use_npu=False, use_mlu=False, ir_optim=True, use_tensorrt=False, min_subgraph_size=15, precision='fp32', gpu_mem=500, gpu_id=0, image_dir='/content/drive/MyDrive/Paddle_Tut/ppocr_img/imgs_en/Ocr_demo.pdf', page_num=0, det_algorithm='DB', det_model_dir='/root/.paddleocr/whl/det/en/en_PP-OCRv3_det_infer', det_limit_side_len=960, det_limit_type='max', det_box_type='quad', det_db_thresh=0.3, det_db_box_thresh=0.6, det_db_unclip_ratio=1.5, max_batch_size=10, use_dilation=False, det_db_score_mode='fast', det_east_score_thresh=0.8, det_east_cover_thresh=0.1, det_east_nms_thresh=0.2, det_sast_score_thresh=0.5, det_sast_nms_thresh=0.2, det_pse_thresh=0, det_pse_box_thresh=0.85, det_pse_min_area=16, det_pse_scale=1, scales=[8, 16, 32], alpha=1.0, beta=1.0, fourier_degree=5, rec_algorithm='SVTR_LCNet', rec_model_dir='/root/.paddleocr/whl/rec/en/en_PP-OCRv4_rec_infer', rec_image_inverse=True, rec_image_shape='3, 48, 320', rec_batch_num=6, max_text_length=25, rec_char_dict_path='/usr/local/lib/python3.10/dist-packages/paddleocr/ppocr/utils/en_dict.txt', use_space_char=True, vis_font_path='./doc/fonts/simfang.ttf', drop_score=0.5, e2e_algorithm='PGNet', e2e_model_dir=None, e2e_limit_side_len=768, e2e_limit_type='max', e2e_pgnet_score_thresh=0.5, e2e_char_dict_path='./ppocr/utils/ic15_dict.txt', e2e_pgnet_valid_set='totaltext', e2e_pgnet_mode='fast', use_angle_cls=True, cls_model_dir='/root/.paddleocr/whl/cls/ch_ppocr_mobile_v2.0_cls_infer', cls_image_shape='3, 48, 192', label_list=['0', '180'], cls_batch_num=6, cls_thresh=0.9, enable_mkldnn=False, cpu_threads=10, use_pdserving=False, warmup=False, sr_model_dir=None, sr_image_shape='3, 32, 128', sr_batch_num=1, draw_img_save_dir='./inference_results', save_crop_res=False, crop_res_save_dir='./output', use_mp=False, total_process_num=1, process_id=0, benchmark=False, save_log_path='./log_output/', show_log=True, use_onnx=False, return_word_box=False, output='./output', table_max_len=488, table_algorithm='TableAttn', table_model_dir=None, merge_no_span_structure=True, table_char_dict_path=None, layout_model_dir=None, layout_dict_path=None, layout_score_threshold=0.5, layout_nms_threshold=0.5, kie_algorithm='LayoutXLM', ser_model_dir=None, re_model_dir=None, use_visual_backbone=True, ser_dict_path='../train_data/XFUND/class_list_xfun.txt', ocr_order_method=None, mode='structure', image_orientation=False, layout=True, table=True, ocr=True, recovery=False, use_pdf2docx_api=False, invert=False, binarize=False, alphacolor=(255, 255, 255), lang='en', det=True, rec=True, type='ocr', savefile=False, ocr_version='PP-OCRv4', structure_version='PP-StructureV2')\n",
            "[2024/08/11 15:53:57] ppocr INFO: **********/content/drive/MyDrive/Paddle_Tut/ppocr_img/imgs_en/Ocr_demo.pdf**********\n",
            "Traceback (most recent call last):\n",
            "  File \"/usr/local/lib/python3.10/dist-packages/paddle/utils/lazy_import.py\", line 32, in try_import\n",
            "    mod = importlib.import_module(module_name)\n",
            "  File \"/usr/lib/python3.10/importlib/__init__.py\", line 126, in import_module\n",
            "    return _bootstrap._gcd_import(name[level:], package, level)\n",
            "  File \"<frozen importlib._bootstrap>\", line 1050, in _gcd_import\n",
            "  File \"<frozen importlib._bootstrap>\", line 1027, in _find_and_load\n",
            "  File \"<frozen importlib._bootstrap>\", line 1004, in _find_and_load_unlocked\n",
            "ModuleNotFoundError: No module named 'fitz'\n",
            "\n",
            "During handling of the above exception, another exception occurred:\n",
            "\n",
            "Traceback (most recent call last):\n",
            "  File \"/usr/local/bin/paddleocr\", line 8, in <module>\n",
            "    sys.exit(main())\n",
            "  File \"/usr/local/lib/python3.10/dist-packages/paddleocr/paddleocr.py\", line 882, in main\n",
            "    result = engine.ocr(\n",
            "  File \"/usr/local/lib/python3.10/dist-packages/paddleocr/paddleocr.py\", line 707, in ocr\n",
            "    img, flag_gif, flag_pdf = check_img(img, alpha_color)\n",
            "  File \"/usr/local/lib/python3.10/dist-packages/paddleocr/paddleocr.py\", line 574, in check_img\n",
            "    img, flag_gif, flag_pdf = check_and_read(image_file)\n",
            "  File \"/usr/local/lib/python3.10/dist-packages/paddleocr/ppocr/utils/utility.py\", line 123, in check_and_read\n",
            "    fitz = try_import(\"fitz\")\n",
            "  File \"/usr/local/lib/python3.10/dist-packages/paddle/utils/lazy_import.py\", line 41, in try_import\n",
            "    raise ImportError(err_msg)\n",
            "ImportError: Failed importing fitz. This likely means that some paddle modules require additional dependencies that have to be manually installed (usually with `pip install fitz`). \n"
          ]
        }
      ]
    },
    {
      "cell_type": "code",
      "source": [
        "pip install Pillow"
      ],
      "metadata": {
        "colab": {
          "base_uri": "https://localhost:8080/"
        },
        "id": "rRaVbxo1EuEk",
        "outputId": "9d567502-4de7-467f-9b9f-096524e3c36c"
      },
      "execution_count": 5,
      "outputs": [
        {
          "output_type": "stream",
          "name": "stdout",
          "text": [
            "Requirement already satisfied: Pillow in /usr/local/lib/python3.10/dist-packages (9.4.0)\n"
          ]
        }
      ]
    },
    {
      "cell_type": "code",
      "source": [
        "import PIL"
      ],
      "metadata": {
        "id": "gHCBlM7LEyek"
      },
      "execution_count": 6,
      "outputs": []
    },
    {
      "cell_type": "code",
      "source": [
        "PIL.__version__"
      ],
      "metadata": {
        "colab": {
          "base_uri": "https://localhost:8080/",
          "height": 35
        },
        "id": "08gRas27E5OY",
        "outputId": "103a8947-d735-4906-859d-198c5e2b2836"
      },
      "execution_count": 7,
      "outputs": [
        {
          "output_type": "execute_result",
          "data": {
            "text/plain": [
              "'9.4.0'"
            ],
            "application/vnd.google.colaboratory.intrinsic+json": {
              "type": "string"
            }
          },
          "metadata": {},
          "execution_count": 7
        }
      ]
    },
    {
      "cell_type": "code",
      "source": [
        "from PIL import Image\n",
        "\n",
        "# Load the image\n",
        "result_image = Image.open('result.jpg')\n",
        "\n",
        "# Display the image\n",
        "result_image.show()\n"
      ],
      "metadata": {
        "id": "kATatWv_Ga5L"
      },
      "execution_count": 9,
      "outputs": []
    },
    {
      "cell_type": "code",
      "source": [
        "from PIL import Image\n",
        "\n",
        "\n",
        "# Location of the image\n",
        "img_path = '/content/drive/MyDrive/Paddle_Tut/ppocr_img/imgs_en/Ocr_img_demo.jpg'\n",
        "\n",
        "img = Image.open(img_path)\n",
        "\n",
        "img.show()"
      ],
      "metadata": {
        "id": "o5-YLECaFjCv"
      },
      "execution_count": 10,
      "outputs": []
    },
    {
      "cell_type": "code",
      "source": [
        "import matplotlib.pyplot as plt\n",
        "\n",
        "# Load the image\n",
        "result_image = Image.open('result.jpg')\n",
        "\n",
        "# Display the image using Matplotlib\n",
        "plt.imshow(result_image)\n",
        "plt.axis('off')  # Hide axes\n",
        "plt.show()\n"
      ],
      "metadata": {
        "id": "CncFed-pGpVm",
        "outputId": "99aeb261-e69c-48df-d608-1f329d57862a",
        "colab": {
          "base_uri": "https://localhost:8080/",
          "height": 222
        }
      },
      "execution_count": 11,
      "outputs": [
        {
          "output_type": "display_data",
          "data": {
            "text/plain": [
              "<Figure size 640x480 with 1 Axes>"
            ],
            "image/png": "[encoded data removed]"
          },
          "metadata": {}
        }
      ]
    },
    {
      "cell_type": "code",
      "source": [
        "from paddleocr import PaddleOCR,draw_ocr\n",
        "# Paddleocr supports Chinese, English, French, German, Korean and Japanese.\n",
        "# You can set the parameter `lang` as `ch`, `en`, `fr`, `german`, `korean`, `japan`\n",
        "# to switch the language model in order.\n",
        "ocr = PaddleOCR(use_angle_cls=True, lang='en') # need to run only once to download and load model into memory\n",
        "img_path = '/content/drive/MyDrive/Paddle_Tut/ppocr_img/Real_life_imgs/apriori.jpg'\n",
        "result = ocr.ocr(img_path, cls=True)\n",
        "for idx in range(len(result)):\n",
        "    res = result[idx]\n",
        "    for line in res:\n",
        "        print(line)\n",
        "\n",
        "\n",
        "# draw result\n",
        "from PIL import Image\n",
        "result = result[0]\n",
        "image = Image.open(img_path).convert('RGB')\n",
        "boxes = [line[0] for line in result]\n",
        "txts = [line[1][0] for line in result]\n",
        "scores = [line[1][1] for line in result]\n",
        "im_show = draw_ocr(image, boxes, txts, scores, font_path='/content/drive/MyDrive/Paddle_Tut/ppocr_img/fonts/simfang.ttf')\n",
        "im_show = Image.fromarray(im_show)\n",
        "im_show.save('result.jpg')"
      ],
      "metadata": {
        "colab": {
          "base_uri": "https://localhost:8080/"
        },
        "id": "o3UxlHpjObhd",
        "outputId": "755de683-7981-485e-a570-0056c21303e4"
      },
      "execution_count": 12,
      "outputs": [
        {
          "output_type": "stream",
          "name": "stdout",
          "text": [
            "[2024/08/11 15:54:11] ppocr DEBUG: Namespace(help='==SUPPRESS==', use_gpu=False, use_xpu=False, use_npu=False, use_mlu=False, ir_optim=True, use_tensorrt=False, min_subgraph_size=15, precision='fp32', gpu_mem=500, gpu_id=0, image_dir=None, page_num=0, det_algorithm='DB', det_model_dir='/root/.paddleocr/whl/det/en/en_PP-OCRv3_det_infer', det_limit_side_len=960, det_limit_type='max', det_box_type='quad', det_db_thresh=0.3, det_db_box_thresh=0.6, det_db_unclip_ratio=1.5, max_batch_size=10, use_dilation=False, det_db_score_mode='fast', det_east_score_thresh=0.8, det_east_cover_thresh=0.1, det_east_nms_thresh=0.2, det_sast_score_thresh=0.5, det_sast_nms_thresh=0.2, det_pse_thresh=0, det_pse_box_thresh=0.85, det_pse_min_area=16, det_pse_scale=1, scales=[8, 16, 32], alpha=1.0, beta=1.0, fourier_degree=5, rec_algorithm='SVTR_LCNet', rec_model_dir='/root/.paddleocr/whl/rec/en/en_PP-OCRv4_rec_infer', rec_image_inverse=True, rec_image_shape='3, 48, 320', rec_batch_num=6, max_text_length=25, rec_char_dict_path='/usr/local/lib/python3.10/dist-packages/paddleocr/ppocr/utils/en_dict.txt', use_space_char=True, vis_font_path='./doc/fonts/simfang.ttf', drop_score=0.5, e2e_algorithm='PGNet', e2e_model_dir=None, e2e_limit_side_len=768, e2e_limit_type='max', e2e_pgnet_score_thresh=0.5, e2e_char_dict_path='./ppocr/utils/ic15_dict.txt', e2e_pgnet_valid_set='totaltext', e2e_pgnet_mode='fast', use_angle_cls=True, cls_model_dir='/root/.paddleocr/whl/cls/ch_ppocr_mobile_v2.0_cls_infer', cls_image_shape='3, 48, 192', label_list=['0', '180'], cls_batch_num=6, cls_thresh=0.9, enable_mkldnn=False, cpu_threads=10, use_pdserving=False, warmup=False, sr_model_dir=None, sr_image_shape='3, 32, 128', sr_batch_num=1, draw_img_save_dir='./inference_results', save_crop_res=False, crop_res_save_dir='./output', use_mp=False, total_process_num=1, process_id=0, benchmark=False, save_log_path='./log_output/', show_log=True, use_onnx=False, return_word_box=False, output='./output', table_max_len=488, table_algorithm='TableAttn', table_model_dir=None, merge_no_span_structure=True, table_char_dict_path=None, layout_model_dir=None, layout_dict_path=None, layout_score_threshold=0.5, layout_nms_threshold=0.5, kie_algorithm='LayoutXLM', ser_model_dir=None, re_model_dir=None, use_visual_backbone=True, ser_dict_path='../train_data/XFUND/class_list_xfun.txt', ocr_order_method=None, mode='structure', image_orientation=False, layout=True, table=True, ocr=True, recovery=False, use_pdf2docx_api=False, invert=False, binarize=False, alphacolor=(255, 255, 255), lang='en', det=True, rec=True, type='ocr', savefile=False, ocr_version='PP-OCRv4', structure_version='PP-StructureV2')\n",
            "[2024/08/11 15:54:15] ppocr DEBUG: dt_boxes num : 20, elapsed : 1.002716064453125\n",
            "[2024/08/11 15:54:16] ppocr DEBUG: cls num  : 20, elapsed : 0.41886258125305176\n",
            "[2024/08/11 15:54:18] ppocr DEBUG: rec_res num  : 20, elapsed : 1.9101579189300537\n",
            "[[[133.0, 37.0], [198.0, 37.0], [198.0, 72.0], [133.0, 72.0]], ('Tu', 0.6409651041030884)]\n",
            "[[[275.0, 37.0], [526.0, 37.0], [526.0, 68.0], [275.0, 68.0]], ('List ofitem_JDs', 0.8598135709762573)]\n",
            "[[[123.0, 91.0], [207.0, 91.0], [207.0, 122.0], [123.0, 122.0]], ('T100', 0.9697503447532654)]\n",
            "[[[270.0, 91.0], [407.0, 89.0], [408.0, 119.0], [270.0, 121.0]], ('1112,15', 0.8310779929161072)]\n",
            "[[[124.0, 132.0], [207.0, 132.0], [207.0, 164.0], [124.0, 164.0]], ('T200', 0.7668139934539795)]\n",
            "[[[271.0, 131.0], [359.0, 131.0], [359.0, 163.0], [271.0, 163.0]], ('12,14', 0.9568998217582703)]\n",
            "[[[123.0, 173.0], [207.0, 173.0], [207.0, 204.0], [123.0, 204.0]], ('T300', 0.997700035572052)]\n",
            "[[[270.0, 173.0], [358.0, 173.0], [358.0, 205.0], [270.0, 205.0]], ('12,3', 0.9530712962150574)]\n",
            "[[[123.0, 215.0], [206.0, 215.0], [206.0, 244.0], [123.0, 244.0]], ('T400', 0.9974349737167358)]\n",
            "[[[271.0, 215.0], [407.0, 215.0], [407.0, 246.0], [271.0, 246.0]], ('1112,14', 0.9030979871749878)]\n",
            "[[[123.0, 255.0], [206.0, 255.0], [206.0, 287.0], [123.0, 287.0]], ('T500', 0.9955481290817261)]\n",
            "[[[270.0, 257.0], [359.0, 257.0], [359.0, 290.0], [270.0, 290.0]], ('11,13', 0.9021890759468079)]\n",
            "[[[123.0, 297.0], [208.0, 297.0], [208.0, 328.0], [123.0, 328.0]], ('T700', 0.5520669221878052)]\n",
            "[[[269.0, 300.0], [357.0, 298.0], [358.0, 330.0], [270.0, 333.0]], ('12,13', 0.9337844848632812)]\n",
            "[[[123.0, 338.0], [208.0, 338.0], [208.0, 370.0], [123.0, 370.0]], ('T700', 0.9664795398712158)]\n",
            "[[[270.0, 341.0], [358.0, 339.0], [359.0, 372.0], [271.0, 374.0]], ('11,13', 0.8980439901351929)]\n",
            "[[[123.0, 381.0], [207.0, 381.0], [207.0, 412.0], [123.0, 412.0]], ('T500', 0.6231464147567749)]\n",
            "[[[272.0, 387.0], [457.0, 387.0], [457.0, 414.0], [272.0, 414.0]], ('11,12,13,15', 0.8577604293823242)]\n",
            "[[[123.0, 422.0], [209.0, 422.0], [209.0, 454.0], [123.0, 454.0]], ('0060.', 0.6147082448005676)]\n",
            "[[[271.0, 427.0], [408.0, 427.0], [408.0, 458.0], [271.0, 458.0]], ('11,12,13', 0.9182196855545044)]\n"
          ]
        }
      ]
    },
    {
      "cell_type": "code",
      "source": [
        "from paddleocr import PaddleOCR,draw_ocr\n",
        "# Paddleocr supports Chinese, English, French, German, Korean and Japanese.\n",
        "# You can set the parameter `lang` as `ch`, `en`, `fr`, `german`, `korean`, `japan`\n",
        "# to switch the language model in order.\n",
        "ocr = PaddleOCR(use_angle_cls=True, lang='en') # need to run only once to download and load model into memory\n",
        "img_path = '/content/drive/MyDrive/Paddle_Tut/ppocr_img/Real_life_imgs/bill.jpg'\n",
        "result = ocr.ocr(img_path, cls=True)\n",
        "for idx in range(len(result)):\n",
        "    res = result[idx]\n",
        "    for line in res:\n",
        "        print(line)\n",
        "\n",
        "\n",
        "# draw result\n",
        "from PIL import Image\n",
        "result = result[0]\n",
        "image = Image.open(img_path).convert('RGB')\n",
        "boxes = [line[0] for line in result]\n",
        "txts = [line[1][0] for line in result]\n",
        "scores = [line[1][1] for line in result]\n",
        "im_show = draw_ocr(image, boxes, txts, scores, font_path='/content/drive/MyDrive/Paddle_Tut/ppocr_img/fonts/simfang.ttf')\n",
        "im_show = Image.fromarray(im_show)\n",
        "im_show.save('result.jpg')"
      ],
      "metadata": {
        "colab": {
          "base_uri": "https://localhost:8080/"
        },
        "id": "2fhchZ7XOsWH",
        "outputId": "2fda02a4-464b-41cb-a877-ca5f89e46dc3"
      },
      "execution_count": 14,
      "outputs": [
        {
          "output_type": "stream",
          "name": "stdout",
          "text": [
            "[2024/08/11 15:55:10] ppocr DEBUG: Namespace(help='==SUPPRESS==', use_gpu=False, use_xpu=False, use_npu=False, use_mlu=False, ir_optim=True, use_tensorrt=False, min_subgraph_size=15, precision='fp32', gpu_mem=500, gpu_id=0, image_dir=None, page_num=0, det_algorithm='DB', det_model_dir='/root/.paddleocr/whl/det/en/en_PP-OCRv3_det_infer', det_limit_side_len=960, det_limit_type='max', det_box_type='quad', det_db_thresh=0.3, det_db_box_thresh=0.6, det_db_unclip_ratio=1.5, max_batch_size=10, use_dilation=False, det_db_score_mode='fast', det_east_score_thresh=0.8, det_east_cover_thresh=0.1, det_east_nms_thresh=0.2, det_sast_score_thresh=0.5, det_sast_nms_thresh=0.2, det_pse_thresh=0, det_pse_box_thresh=0.85, det_pse_min_area=16, det_pse_scale=1, scales=[8, 16, 32], alpha=1.0, beta=1.0, fourier_degree=5, rec_algorithm='SVTR_LCNet', rec_model_dir='/root/.paddleocr/whl/rec/en/en_PP-OCRv4_rec_infer', rec_image_inverse=True, rec_image_shape='3, 48, 320', rec_batch_num=6, max_text_length=25, rec_char_dict_path='/usr/local/lib/python3.10/dist-packages/paddleocr/ppocr/utils/en_dict.txt', use_space_char=True, vis_font_path='./doc/fonts/simfang.ttf', drop_score=0.5, e2e_algorithm='PGNet', e2e_model_dir=None, e2e_limit_side_len=768, e2e_limit_type='max', e2e_pgnet_score_thresh=0.5, e2e_char_dict_path='./ppocr/utils/ic15_dict.txt', e2e_pgnet_valid_set='totaltext', e2e_pgnet_mode='fast', use_angle_cls=True, cls_model_dir='/root/.paddleocr/whl/cls/ch_ppocr_mobile_v2.0_cls_infer', cls_image_shape='3, 48, 192', label_list=['0', '180'], cls_batch_num=6, cls_thresh=0.9, enable_mkldnn=False, cpu_threads=10, use_pdserving=False, warmup=False, sr_model_dir=None, sr_image_shape='3, 32, 128', sr_batch_num=1, draw_img_save_dir='./inference_results', save_crop_res=False, crop_res_save_dir='./output', use_mp=False, total_process_num=1, process_id=0, benchmark=False, save_log_path='./log_output/', show_log=True, use_onnx=False, return_word_box=False, output='./output', table_max_len=488, table_algorithm='TableAttn', table_model_dir=None, merge_no_span_structure=True, table_char_dict_path=None, layout_model_dir=None, layout_dict_path=None, layout_score_threshold=0.5, layout_nms_threshold=0.5, kie_algorithm='LayoutXLM', ser_model_dir=None, re_model_dir=None, use_visual_backbone=True, ser_dict_path='../train_data/XFUND/class_list_xfun.txt', ocr_order_method=None, mode='structure', image_orientation=False, layout=True, table=True, ocr=True, recovery=False, use_pdf2docx_api=False, invert=False, binarize=False, alphacolor=(255, 255, 255), lang='en', det=True, rec=True, type='ocr', savefile=False, ocr_version='PP-OCRv4', structure_version='PP-StructureV2')\n",
            "[2024/08/11 15:55:12] ppocr DEBUG: dt_boxes num : 21, elapsed : 0.36613011360168457\n",
            "[2024/08/11 15:55:12] ppocr DEBUG: cls num  : 21, elapsed : 0.08955836296081543\n",
            "[2024/08/11 15:55:16] ppocr DEBUG: rec_res num  : 21, elapsed : 3.9055252075195312\n",
            "[[[77.0, 419.0], [147.0, 416.0], [148.0, 434.0], [78.0, 438.0]], ('ary.2024', 0.8499411344528198)]\n",
            "[[[685.0, 420.0], [848.0, 424.0], [848.0, 447.0], [684.0, 442.0]], ('Purchase made on', 0.9811173677444458)]\n",
            "[[[79.0, 437.0], [386.0, 439.0], [386.0, 457.0], [79.0, 456.0]], ('sp forder ld:171-1906028-1217107', 0.8998826146125793)]\n",
            "[[[630.0, 465.0], [869.0, 465.0], [869.0, 503.0], [630.0, 503.0]], ('amazon.in', 0.9946398138999939)]\n",
            "[[[55.0, 504.0], [104.0, 504.0], [104.0, 528.0], [55.0, 528.0]], ('dBy', 0.8979397416114807)]\n",
            "[[[53.0, 529.0], [209.0, 529.0], [209.0, 548.0], [53.0, 548.0]], ('mbley Enterprises', 0.9757020473480225)]\n",
            "[[[49.0, 548.0], [822.0, 556.0], [822.0, 579.0], [49.0, 571.0]], ('29.Mohan Co-operative Industrial Estate Mathura Road.Badarpur,NEw DELHI-110044', 0.9307922720909119)]\n",
            "[[[50.0, 572.0], [138.0, 575.0], [137.0, 595.0], [49.0, 592.0]], ('LHIndia', 0.8192358016967773)]\n",
            "[[[50.0, 636.0], [262.0, 636.0], [262.0, 655.0], [50.0, 655.0]], ('oice NunberDEX8-119', 0.9234482645988464)]\n",
            "[[[603.0, 669.0], [901.0, 675.0], [901.0, 693.0], [603.0, 688.0]], ('This is a computer generated document', 0.9751486778259277)]\n",
            "[[[82.0, 702.0], [187.0, 705.0], [186.0, 724.0], [82.0, 721.0]], ('DESCRIPTION', 0.9958469271659851)]\n",
            "[[[82.0, 748.0], [801.0, 755.0], [800.0, 777.0], [82.0, 771.0]], ('Vembley Charming Gold Plated Purple Crystal Butterfly Pendant Necklace for Women and Girls', 0.964186429977417)]\n",
            "[[[86.0, 773.0], [185.0, 773.0], [185.0, 788.0], [86.0, 788.0]], ('XO1HXO8AZ', 0.9193990230560303)]\n",
            "[[[367.0, 844.0], [562.0, 844.0], [562.0, 861.0], [367.0, 861.0]], ('Registered Address for', 0.9798370599746704)]\n",
            "[[[226.0, 863.0], [698.0, 865.0], [698.0, 888.0], [226.0, 885.0]], ('Vembley Enterprises,Basement,9 Gopal Nagar.(Fateh', 0.9275145530700684)]\n",
            "[[[225.0, 888.0], [700.0, 889.0], [700.0, 908.0], [225.0, 907.0]], ('Nagar).Near Jail Road,NEw DELHI-110018,DELHI,IN', 0.8735423684120178)]\n",
            "[[[45.0, 961.0], [625.0, 968.0], [624.0, 991.0], [45.0, 984.0]], ('return an item,visit http://www.amazon.in/returns', 0.9545680284500122)]\n",
            "[[[747.0, 968.0], [856.0, 968.0], [856.0, 991.0], [747.0, 991.0]], ('Page 1 0f1', 0.8440726399421692)]\n",
            "[[[44.0, 984.0], [565.0, 989.0], [564.0, 1013.0], [44.0, 1008.0]], ('r more information on your orders, visit http://', 0.9350929260253906)]\n",
            "[[[48.0, 1009.0], [359.0, 1013.0], [358.0, 1032.0], [48.0, 1028.0]], ('w.amazon.in/your-account', 0.9918206334114075)]\n",
            "[[[81.0, 1040.0], [738.0, 1047.0], [738.0, 1069.0], [80.0, 1063.0]], ('NvT/-1of1-//exp-in-grd-cod-eligible/0104-22:26/0104-23:30', 0.9202234148979187)]\n"
          ]
        }
      ]
    },
    {
      "cell_type": "code",
      "source": [
        "from paddleocr import PaddleOCR,draw_ocr\n",
        "# Paddleocr supports Chinese, English, French, German, Korean and Japanese.\n",
        "# You can set the parameter `lang` as `ch`, `en`, `fr`, `german`, `korean`, `japan`\n",
        "# to switch the language model in order.\n",
        "ocr = PaddleOCR(use_angle_cls=True, lang='en') # need to run only once to download and load model into memory\n",
        "img_path = '/content/drive/MyDrive/Paddle_Tut/ppocr_img/Real_life_imgs/bill0.jpg'\n",
        "result = ocr.ocr(img_path, cls=True)\n",
        "for idx in range(len(result)):\n",
        "    res = result[idx]\n",
        "    for line in res:\n",
        "        print(line)\n",
        "\n",
        "\n",
        "# draw result\n",
        "from PIL import Image\n",
        "result = result[0]\n",
        "image = Image.open(img_path).convert('RGB')\n",
        "boxes = [line[0] for line in result]\n",
        "txts = [line[1][0] for line in result]\n",
        "scores = [line[1][1] for line in result]\n",
        "im_show = draw_ocr(image, boxes, txts, scores, font_path='/content/drive/MyDrive/Paddle_Tut/ppocr_img/fonts/simfang.ttf')\n",
        "im_show = Image.fromarray(im_show)\n",
        "im_show.save('result.jpg')"
      ],
      "metadata": {
        "colab": {
          "base_uri": "https://localhost:8080/"
        },
        "id": "repesW6sOz-H",
        "outputId": "f565a79e-2778-495b-c8ed-deb2798847f1"
      },
      "execution_count": 15,
      "outputs": [
        {
          "output_type": "stream",
          "name": "stdout",
          "text": [
            "[2024/08/11 15:56:05] ppocr DEBUG: Namespace(help='==SUPPRESS==', use_gpu=False, use_xpu=False, use_npu=False, use_mlu=False, ir_optim=True, use_tensorrt=False, min_subgraph_size=15, precision='fp32', gpu_mem=500, gpu_id=0, image_dir=None, page_num=0, det_algorithm='DB', det_model_dir='/root/.paddleocr/whl/det/en/en_PP-OCRv3_det_infer', det_limit_side_len=960, det_limit_type='max', det_box_type='quad', det_db_thresh=0.3, det_db_box_thresh=0.6, det_db_unclip_ratio=1.5, max_batch_size=10, use_dilation=False, det_db_score_mode='fast', det_east_score_thresh=0.8, det_east_cover_thresh=0.1, det_east_nms_thresh=0.2, det_sast_score_thresh=0.5, det_sast_nms_thresh=0.2, det_pse_thresh=0, det_pse_box_thresh=0.85, det_pse_min_area=16, det_pse_scale=1, scales=[8, 16, 32], alpha=1.0, beta=1.0, fourier_degree=5, rec_algorithm='SVTR_LCNet', rec_model_dir='/root/.paddleocr/whl/rec/en/en_PP-OCRv4_rec_infer', rec_image_inverse=True, rec_image_shape='3, 48, 320', rec_batch_num=6, max_text_length=25, rec_char_dict_path='/usr/local/lib/python3.10/dist-packages/paddleocr/ppocr/utils/en_dict.txt', use_space_char=True, vis_font_path='./doc/fonts/simfang.ttf', drop_score=0.5, e2e_algorithm='PGNet', e2e_model_dir=None, e2e_limit_side_len=768, e2e_limit_type='max', e2e_pgnet_score_thresh=0.5, e2e_char_dict_path='./ppocr/utils/ic15_dict.txt', e2e_pgnet_valid_set='totaltext', e2e_pgnet_mode='fast', use_angle_cls=True, cls_model_dir='/root/.paddleocr/whl/cls/ch_ppocr_mobile_v2.0_cls_infer', cls_image_shape='3, 48, 192', label_list=['0', '180'], cls_batch_num=6, cls_thresh=0.9, enable_mkldnn=False, cpu_threads=10, use_pdserving=False, warmup=False, sr_model_dir=None, sr_image_shape='3, 32, 128', sr_batch_num=1, draw_img_save_dir='./inference_results', save_crop_res=False, crop_res_save_dir='./output', use_mp=False, total_process_num=1, process_id=0, benchmark=False, save_log_path='./log_output/', show_log=True, use_onnx=False, return_word_box=False, output='./output', table_max_len=488, table_algorithm='TableAttn', table_model_dir=None, merge_no_span_structure=True, table_char_dict_path=None, layout_model_dir=None, layout_dict_path=None, layout_score_threshold=0.5, layout_nms_threshold=0.5, kie_algorithm='LayoutXLM', ser_model_dir=None, re_model_dir=None, use_visual_backbone=True, ser_dict_path='../train_data/XFUND/class_list_xfun.txt', ocr_order_method=None, mode='structure', image_orientation=False, layout=True, table=True, ocr=True, recovery=False, use_pdf2docx_api=False, invert=False, binarize=False, alphacolor=(255, 255, 255), lang='en', det=True, rec=True, type='ocr', savefile=False, ocr_version='PP-OCRv4', structure_version='PP-StructureV2')\n",
            "[2024/08/11 15:56:07] ppocr DEBUG: dt_boxes num : 5, elapsed : 0.392559289932251\n",
            "[2024/08/11 15:56:07] ppocr DEBUG: cls num  : 5, elapsed : 0.04595661163330078\n",
            "[2024/08/11 15:56:08] ppocr DEBUG: rec_res num  : 5, elapsed : 0.7297122478485107\n",
            "[[[407.0, 94.0], [588.0, 98.0], [588.0, 116.0], [407.0, 112.0]], ('Please note ihat this invo', 0.8582582473754883)]\n",
            "[[[657.0, 94.0], [808.0, 94.0], [808.0, 112.0], [657.0, 112.0]], ('derand for bayment', 0.8142979145050049)]\n",
            "[[[292.0, 510.0], [490.0, 506.0], [491.0, 547.0], [293.0, 551.0]], ('A gift from', 0.9631153345108032)]\n",
            "[[[295.0, 560.0], [447.0, 560.0], [447.0, 608.0], [295.0, 608.0]], ('Manu', 0.9967327117919922)]\n",
            "[[[293.0, 685.0], [859.0, 668.0], [860.0, 709.0], [294.0, 726.0]], ('Happy Birthday Pari! From Manu', 0.9238375425338745)]\n"
          ]
        }
      ]
    },
    {
      "cell_type": "code",
      "source": [
        "from paddleocr import PaddleOCR,draw_ocr\n",
        "# Paddleocr supports Chinese, English, French, German, Korean and Japanese.\n",
        "# You can set the parameter `lang` as `ch`, `en`, `fr`, `german`, `korean`, `japan`\n",
        "# to switch the language model in order.\n",
        "ocr = PaddleOCR(use_angle_cls=True, lang='en') # need to run only once to download and load model into memory\n",
        "img_path = '/content/drive/MyDrive/Paddle_Tut/ppocr_img/Real_life_imgs/coffee.jpg'\n",
        "result = ocr.ocr(img_path, cls=True)\n",
        "for idx in range(len(result)):\n",
        "    res = result[idx]\n",
        "    for line in res:\n",
        "        print(line)\n",
        "\n",
        "\n",
        "# draw result\n",
        "from PIL import Image\n",
        "result = result[0]\n",
        "image = Image.open(img_path).convert('RGB')\n",
        "boxes = [line[0] for line in result]\n",
        "txts = [line[1][0] for line in result]\n",
        "scores = [line[1][1] for line in result]\n",
        "im_show = draw_ocr(image, boxes, txts, scores, font_path='/content/drive/MyDrive/Paddle_Tut/ppocr_img/fonts/simfang.ttf')\n",
        "im_show = Image.fromarray(im_show)\n",
        "im_show.save('result.jpg')"
      ],
      "metadata": {
        "colab": {
          "base_uri": "https://localhost:8080/"
        },
        "id": "s_mYxSagO5C_",
        "outputId": "f306bcc7-efd9-40d9-90bf-7eb48ba95934"
      },
      "execution_count": 16,
      "outputs": [
        {
          "output_type": "stream",
          "name": "stdout",
          "text": [
            "[2024/08/11 15:56:08] ppocr DEBUG: Namespace(help='==SUPPRESS==', use_gpu=False, use_xpu=False, use_npu=False, use_mlu=False, ir_optim=True, use_tensorrt=False, min_subgraph_size=15, precision='fp32', gpu_mem=500, gpu_id=0, image_dir=None, page_num=0, det_algorithm='DB', det_model_dir='/root/.paddleocr/whl/det/en/en_PP-OCRv3_det_infer', det_limit_side_len=960, det_limit_type='max', det_box_type='quad', det_db_thresh=0.3, det_db_box_thresh=0.6, det_db_unclip_ratio=1.5, max_batch_size=10, use_dilation=False, det_db_score_mode='fast', det_east_score_thresh=0.8, det_east_cover_thresh=0.1, det_east_nms_thresh=0.2, det_sast_score_thresh=0.5, det_sast_nms_thresh=0.2, det_pse_thresh=0, det_pse_box_thresh=0.85, det_pse_min_area=16, det_pse_scale=1, scales=[8, 16, 32], alpha=1.0, beta=1.0, fourier_degree=5, rec_algorithm='SVTR_LCNet', rec_model_dir='/root/.paddleocr/whl/rec/en/en_PP-OCRv4_rec_infer', rec_image_inverse=True, rec_image_shape='3, 48, 320', rec_batch_num=6, max_text_length=25, rec_char_dict_path='/usr/local/lib/python3.10/dist-packages/paddleocr/ppocr/utils/en_dict.txt', use_space_char=True, vis_font_path='./doc/fonts/simfang.ttf', drop_score=0.5, e2e_algorithm='PGNet', e2e_model_dir=None, e2e_limit_side_len=768, e2e_limit_type='max', e2e_pgnet_score_thresh=0.5, e2e_char_dict_path='./ppocr/utils/ic15_dict.txt', e2e_pgnet_valid_set='totaltext', e2e_pgnet_mode='fast', use_angle_cls=True, cls_model_dir='/root/.paddleocr/whl/cls/ch_ppocr_mobile_v2.0_cls_infer', cls_image_shape='3, 48, 192', label_list=['0', '180'], cls_batch_num=6, cls_thresh=0.9, enable_mkldnn=False, cpu_threads=10, use_pdserving=False, warmup=False, sr_model_dir=None, sr_image_shape='3, 32, 128', sr_batch_num=1, draw_img_save_dir='./inference_results', save_crop_res=False, crop_res_save_dir='./output', use_mp=False, total_process_num=1, process_id=0, benchmark=False, save_log_path='./log_output/', show_log=True, use_onnx=False, return_word_box=False, output='./output', table_max_len=488, table_algorithm='TableAttn', table_model_dir=None, merge_no_span_structure=True, table_char_dict_path=None, layout_model_dir=None, layout_dict_path=None, layout_score_threshold=0.5, layout_nms_threshold=0.5, kie_algorithm='LayoutXLM', ser_model_dir=None, re_model_dir=None, use_visual_backbone=True, ser_dict_path='../train_data/XFUND/class_list_xfun.txt', ocr_order_method=None, mode='structure', image_orientation=False, layout=True, table=True, ocr=True, recovery=False, use_pdf2docx_api=False, invert=False, binarize=False, alphacolor=(255, 255, 255), lang='en', det=True, rec=True, type='ocr', savefile=False, ocr_version='PP-OCRv4', structure_version='PP-StructureV2')\n",
            "[2024/08/11 15:56:11] ppocr DEBUG: dt_boxes num : 1, elapsed : 0.34402012825012207\n",
            "[2024/08/11 15:56:11] ppocr DEBUG: cls num  : 1, elapsed : 0.06029033660888672\n",
            "[2024/08/11 15:56:11] ppocr DEBUG: rec_res num  : 1, elapsed : 0.14794921875\n",
            "[[[317.0, 481.0], [613.0, 489.0], [610.0, 578.0], [314.0, 570.0]], ('Coffee', 0.9981449246406555)]\n"
          ]
        }
      ]
    },
    {
      "cell_type": "code",
      "source": [
        "from paddleocr import PaddleOCR,draw_ocr\n",
        "# Paddleocr supports Chinese, English, French, German, Korean and Japanese.\n",
        "# You can set the parameter `lang` as `ch`, `en`, `fr`, `german`, `korean`, `japan`\n",
        "# to switch the language model in order.\n",
        "ocr = PaddleOCR(use_angle_cls=True, lang='en') # need to run only once to download and load model into memory\n",
        "img_path = '/content/drive/MyDrive/Paddle_Tut/ppocr_img/Real_life_imgs/dark_chocolate.jpg'\n",
        "result = ocr.ocr(img_path, cls=True)\n",
        "for idx in range(len(result)):\n",
        "    res = result[idx]\n",
        "    for line in res:\n",
        "        print(line)\n",
        "\n",
        "\n",
        "# draw result\n",
        "from PIL import Image\n",
        "result = result[0]\n",
        "image = Image.open(img_path).convert('RGB')\n",
        "boxes = [line[0] for line in result]\n",
        "txts = [line[1][0] for line in result]\n",
        "scores = [line[1][1] for line in result]\n",
        "im_show = draw_ocr(image, boxes, txts, scores, font_path='/content/drive/MyDrive/Paddle_Tut/ppocr_img/fonts/simfang.ttf')\n",
        "im_show = Image.fromarray(im_show)\n",
        "im_show.save('result.jpg')"
      ],
      "metadata": {
        "colab": {
          "base_uri": "https://localhost:8080/"
        },
        "id": "9eZ7g1PtPAIO",
        "outputId": "bdd391af-33a8-45ba-b484-b45a8ac20efd"
      },
      "execution_count": 17,
      "outputs": [
        {
          "output_type": "stream",
          "name": "stdout",
          "text": [
            "[2024/08/11 15:56:11] ppocr DEBUG: Namespace(help='==SUPPRESS==', use_gpu=False, use_xpu=False, use_npu=False, use_mlu=False, ir_optim=True, use_tensorrt=False, min_subgraph_size=15, precision='fp32', gpu_mem=500, gpu_id=0, image_dir=None, page_num=0, det_algorithm='DB', det_model_dir='/root/.paddleocr/whl/det/en/en_PP-OCRv3_det_infer', det_limit_side_len=960, det_limit_type='max', det_box_type='quad', det_db_thresh=0.3, det_db_box_thresh=0.6, det_db_unclip_ratio=1.5, max_batch_size=10, use_dilation=False, det_db_score_mode='fast', det_east_score_thresh=0.8, det_east_cover_thresh=0.1, det_east_nms_thresh=0.2, det_sast_score_thresh=0.5, det_sast_nms_thresh=0.2, det_pse_thresh=0, det_pse_box_thresh=0.85, det_pse_min_area=16, det_pse_scale=1, scales=[8, 16, 32], alpha=1.0, beta=1.0, fourier_degree=5, rec_algorithm='SVTR_LCNet', rec_model_dir='/root/.paddleocr/whl/rec/en/en_PP-OCRv4_rec_infer', rec_image_inverse=True, rec_image_shape='3, 48, 320', rec_batch_num=6, max_text_length=25, rec_char_dict_path='/usr/local/lib/python3.10/dist-packages/paddleocr/ppocr/utils/en_dict.txt', use_space_char=True, vis_font_path='./doc/fonts/simfang.ttf', drop_score=0.5, e2e_algorithm='PGNet', e2e_model_dir=None, e2e_limit_side_len=768, e2e_limit_type='max', e2e_pgnet_score_thresh=0.5, e2e_char_dict_path='./ppocr/utils/ic15_dict.txt', e2e_pgnet_valid_set='totaltext', e2e_pgnet_mode='fast', use_angle_cls=True, cls_model_dir='/root/.paddleocr/whl/cls/ch_ppocr_mobile_v2.0_cls_infer', cls_image_shape='3, 48, 192', label_list=['0', '180'], cls_batch_num=6, cls_thresh=0.9, enable_mkldnn=False, cpu_threads=10, use_pdserving=False, warmup=False, sr_model_dir=None, sr_image_shape='3, 32, 128', sr_batch_num=1, draw_img_save_dir='./inference_results', save_crop_res=False, crop_res_save_dir='./output', use_mp=False, total_process_num=1, process_id=0, benchmark=False, save_log_path='./log_output/', show_log=True, use_onnx=False, return_word_box=False, output='./output', table_max_len=488, table_algorithm='TableAttn', table_model_dir=None, merge_no_span_structure=True, table_char_dict_path=None, layout_model_dir=None, layout_dict_path=None, layout_score_threshold=0.5, layout_nms_threshold=0.5, kie_algorithm='LayoutXLM', ser_model_dir=None, re_model_dir=None, use_visual_backbone=True, ser_dict_path='../train_data/XFUND/class_list_xfun.txt', ocr_order_method=None, mode='structure', image_orientation=False, layout=True, table=True, ocr=True, recovery=False, use_pdf2docx_api=False, invert=False, binarize=False, alphacolor=(255, 255, 255), lang='en', det=True, rec=True, type='ocr', savefile=False, ocr_version='PP-OCRv4', structure_version='PP-StructureV2')\n",
            "[2024/08/11 15:56:13] ppocr DEBUG: dt_boxes num : 11, elapsed : 0.2407376766204834\n",
            "[2024/08/11 15:56:13] ppocr DEBUG: cls num  : 11, elapsed : 0.07207012176513672\n",
            "[2024/08/11 15:56:14] ppocr DEBUG: rec_res num  : 11, elapsed : 0.685448408126831\n",
            "[[[208.0, 70.0], [422.0, 80.0], [372.0, 1018.0], [158.0, 1008.0]], ('CHOCOLATE', 0.9978427886962891)]\n",
            "[[[417.0, 88.0], [600.0, 88.0], [600.0, 155.0], [417.0, 155.0]], ('Amul', 0.9928586483001709)]\n",
            "[[[164.0, 117.0], [202.0, 117.0], [202.0, 135.0], [164.0, 135.0]], ('Plain', 0.9985771179199219)]\n",
            "[[[140.0, 130.0], [215.0, 137.0], [213.0, 155.0], [139.0, 149.0]], ('Chocolate', 0.9821196794509888)]\n",
            "[[[389.0, 141.0], [639.0, 146.0], [629.0, 699.0], [378.0, 694.0]], ('DARK', 0.9977948665618896)]\n",
            "[[[401.0, 720.0], [603.0, 720.0], [603.0, 743.0], [401.0, 743.0]], ('MADE FROM FINEST', 0.9235053062438965)]\n",
            "[[[400.0, 744.0], [607.0, 747.0], [606.0, 780.0], [399.0, 777.0]], ('COCOA BEANS', 0.9578025937080383)]\n",
            "[[[501.0, 873.0], [583.0, 877.0], [581.0, 922.0], [498.0, 918.0]], ('55%', 0.9987554550170898)]\n",
            "[[[498.0, 916.0], [583.0, 919.0], [582.0, 938.0], [497.0, 934.0]], ('Rich in Cocoa', 0.956645131111145)]\n",
            "[[[496.0, 962.0], [587.0, 966.0], [586.0, 988.0], [495.0, 985.0]], ('Natural Source', 0.9587538838386536)]\n",
            "[[[493.0, 985.0], [588.0, 988.0], [587.0, 1007.0], [492.0, 1004.0]], ('ofAntioxidants', 0.9933925867080688)]\n"
          ]
        }
      ]
    },
    {
      "cell_type": "code",
      "source": [
        "from paddleocr import PaddleOCR,draw_ocr\n",
        "# Paddleocr supports Chinese, English, French, German, Korean and Japanese.\n",
        "# You can set the parameter `lang` as `ch`, `en`, `fr`, `german`, `korean`, `japan`\n",
        "# to switch the language model in order.\n",
        "ocr = PaddleOCR(use_angle_cls=True, lang='en') # need to run only once to download and load model into memory\n",
        "img_path = '/content/drive/MyDrive/Paddle_Tut/ppocr_img/Real_life_imgs/pic_text.jpg'\n",
        "result = ocr.ocr(img_path, cls=True)\n",
        "for idx in range(len(result)):\n",
        "    res = result[idx]\n",
        "    for line in res:\n",
        "        print(line)\n",
        "\n",
        "\n",
        "# draw result\n",
        "from PIL import Image\n",
        "result = result[0]\n",
        "image = Image.open(img_path).convert('RGB')\n",
        "boxes = [line[0] for line in result]\n",
        "txts = [line[1][0] for line in result]\n",
        "scores = [line[1][1] for line in result]\n",
        "im_show = draw_ocr(image, boxes, txts, scores, font_path='/content/drive/MyDrive/Paddle_Tut/ppocr_img/fonts/simfang.ttf')\n",
        "im_show = Image.fromarray(im_show)\n",
        "im_show.save('result.jpg')"
      ],
      "metadata": {
        "colab": {
          "base_uri": "https://localhost:8080/"
        },
        "id": "A4_iD7IbPF6I",
        "outputId": "5bab7e3e-ee8b-42e8-e978-6f1f70388470"
      },
      "execution_count": 18,
      "outputs": [
        {
          "output_type": "stream",
          "name": "stdout",
          "text": [
            "[2024/08/11 15:56:14] ppocr DEBUG: Namespace(help='==SUPPRESS==', use_gpu=False, use_xpu=False, use_npu=False, use_mlu=False, ir_optim=True, use_tensorrt=False, min_subgraph_size=15, precision='fp32', gpu_mem=500, gpu_id=0, image_dir=None, page_num=0, det_algorithm='DB', det_model_dir='/root/.paddleocr/whl/det/en/en_PP-OCRv3_det_infer', det_limit_side_len=960, det_limit_type='max', det_box_type='quad', det_db_thresh=0.3, det_db_box_thresh=0.6, det_db_unclip_ratio=1.5, max_batch_size=10, use_dilation=False, det_db_score_mode='fast', det_east_score_thresh=0.8, det_east_cover_thresh=0.1, det_east_nms_thresh=0.2, det_sast_score_thresh=0.5, det_sast_nms_thresh=0.2, det_pse_thresh=0, det_pse_box_thresh=0.85, det_pse_min_area=16, det_pse_scale=1, scales=[8, 16, 32], alpha=1.0, beta=1.0, fourier_degree=5, rec_algorithm='SVTR_LCNet', rec_model_dir='/root/.paddleocr/whl/rec/en/en_PP-OCRv4_rec_infer', rec_image_inverse=True, rec_image_shape='3, 48, 320', rec_batch_num=6, max_text_length=25, rec_char_dict_path='/usr/local/lib/python3.10/dist-packages/paddleocr/ppocr/utils/en_dict.txt', use_space_char=True, vis_font_path='./doc/fonts/simfang.ttf', drop_score=0.5, e2e_algorithm='PGNet', e2e_model_dir=None, e2e_limit_side_len=768, e2e_limit_type='max', e2e_pgnet_score_thresh=0.5, e2e_char_dict_path='./ppocr/utils/ic15_dict.txt', e2e_pgnet_valid_set='totaltext', e2e_pgnet_mode='fast', use_angle_cls=True, cls_model_dir='/root/.paddleocr/whl/cls/ch_ppocr_mobile_v2.0_cls_infer', cls_image_shape='3, 48, 192', label_list=['0', '180'], cls_batch_num=6, cls_thresh=0.9, enable_mkldnn=False, cpu_threads=10, use_pdserving=False, warmup=False, sr_model_dir=None, sr_image_shape='3, 32, 128', sr_batch_num=1, draw_img_save_dir='./inference_results', save_crop_res=False, crop_res_save_dir='./output', use_mp=False, total_process_num=1, process_id=0, benchmark=False, save_log_path='./log_output/', show_log=True, use_onnx=False, return_word_box=False, output='./output', table_max_len=488, table_algorithm='TableAttn', table_model_dir=None, merge_no_span_structure=True, table_char_dict_path=None, layout_model_dir=None, layout_dict_path=None, layout_score_threshold=0.5, layout_nms_threshold=0.5, kie_algorithm='LayoutXLM', ser_model_dir=None, re_model_dir=None, use_visual_backbone=True, ser_dict_path='../train_data/XFUND/class_list_xfun.txt', ocr_order_method=None, mode='structure', image_orientation=False, layout=True, table=True, ocr=True, recovery=False, use_pdf2docx_api=False, invert=False, binarize=False, alphacolor=(255, 255, 255), lang='en', det=True, rec=True, type='ocr', savefile=False, ocr_version='PP-OCRv4', structure_version='PP-StructureV2')\n",
            "[2024/08/11 15:56:16] ppocr DEBUG: dt_boxes num : 37, elapsed : 0.39807820320129395\n",
            "[2024/08/11 15:56:16] ppocr DEBUG: cls num  : 37, elapsed : 0.13216161727905273\n",
            "[2024/08/11 15:56:18] ppocr DEBUG: rec_res num  : 37, elapsed : 2.020537853240967\n",
            "[[[205.0, 23.0], [435.0, 43.0], [432.0, 77.0], [202.0, 57.0]], ('data/nlu.yml', 0.9417304992675781)]\n",
            "[[[224.0, 130.0], [578.0, 159.0], [575.0, 187.0], [222.0, 158.0]], ('9 lines 280 loc5.68', 0.9121089577674866)]\n",
            "[[[181.0, 204.0], [333.0, 211.0], [331.0, 243.0], [179.0, 236.0]], ('good night', 0.9780322313308716)]\n",
            "[[[180.0, 252.0], [230.0, 252.0], [230.0, 283.0], [180.0, 283.0]], ('bye', 0.9975720047950745)]\n",
            "[[[181.0, 299.0], [287.0, 299.0], [287.0, 332.0], [181.0, 332.0]], ('goodbye', 0.9980525970458984)]\n",
            "[[[183.0, 341.0], [399.0, 355.0], [397.0, 383.0], [181.0, 369.0]], ('have a nice day', 0.9464263916015625)]\n",
            "[[[179.0, 390.0], [384.0, 399.0], [383.0, 426.0], [178.0, 417.0]], ('see you around', 0.9292864203453064)]\n",
            "[[[178.0, 432.0], [286.0, 436.0], [285.0, 468.0], [177.0, 464.0]], ('bye bye', 0.9609262347221375)]\n",
            "[[[179.0, 478.0], [368.0, 484.0], [367.0, 512.0], [178.0, 506.0]], ('see you later', 0.9511051177978516)]\n",
            "[[[178.0, 564.0], [391.0, 572.0], [390.0, 599.0], [177.0, 590.0]], ('have a nice day', 0.941663384437561)]\n",
            "[[[178.0, 606.0], [416.0, 614.0], [415.0, 640.0], [177.0, 633.0]], ('Talk to you later', 0.9513906836509705)]\n",
            "[[[177.0, 649.0], [377.0, 655.0], [377.0, 682.0], [176.0, 676.0]], ('Have to go now', 0.9221218824386597)]\n",
            "[[[117.0, 729.0], [322.0, 732.0], [321.0, 759.0], [116.0, 756.0]], ('intent: affirm', 0.9554871916770935)]\n",
            "[[[123.0, 775.0], [249.0, 775.0], [249.0, 799.0], [123.0, 799.0]], ('examples:', 0.9882746934890747)]\n",
            "[[[169.0, 817.0], [220.0, 817.0], [220.0, 841.0], [169.0, 841.0]], ('yes', 0.9986684322357178)]\n",
            "[[[3.0, 859.0], [15.0, 859.0], [15.0, 876.0], [3.0, 876.0]], ('4', 0.995686411857605)]\n",
            "[[[165.0, 861.0], [193.0, 861.0], [193.0, 880.0], [165.0, 880.0]], ('y', 0.9833942651748657)]\n",
            "[[[3.0, 900.0], [16.0, 900.0], [16.0, 920.0], [3.0, 920.0]], ('5', 0.9599035978317261)]\n",
            "[[[171.0, 892.0], [261.0, 892.0], [261.0, 920.0], [171.0, 920.0]], ('indeed', 0.9973771572113037)]\n",
            "[[[2.0, 936.0], [20.0, 941.0], [14.0, 961.0], [0.0, 956.0]], ('6', 0.9825945496559143)]\n",
            "[[[173.0, 935.0], [299.0, 935.0], [299.0, 957.0], [173.0, 957.0]], ('of course', 0.9576523303985596)]\n",
            "[[[3.0, 980.0], [15.0, 980.0], [15.0, 996.0], [3.0, 996.0]], ('7', 0.9910153746604919)]\n",
            "[[[173.0, 972.0], [390.0, 968.0], [391.0, 995.0], [174.0, 999.0]], ('that sounds good', 0.9731625914573669)]\n",
            "[[[1.0, 1017.0], [19.0, 1017.0], [19.0, 1036.0], [1.0, 1036.0]], ('8', 0.9941940903663635)]\n",
            "[[[173.0, 1011.0], [270.0, 1009.0], [270.0, 1033.0], [174.0, 1035.0]], ('correct', 0.9966452717781067)]\n",
            "[[[173.0, 1050.0], [348.0, 1044.0], [348.0, 1070.0], [174.0, 1076.0]], ('You are right', 0.950533926486969)]\n",
            "[[[172.0, 1085.0], [230.0, 1085.0], [230.0, 1109.0], [172.0, 1109.0]], ('Yeah', 0.9827502965927124)]\n",
            "[[[172.0, 1124.0], [218.0, 1124.0], [218.0, 1148.0], [172.0, 1148.0]], ('Yup', 0.9980841279029846)]\n",
            "[[[1.0, 1168.0], [21.0, 1168.0], [21.0, 1184.0], [1.0, 1184.0]], ('52', 0.8641315698623657)]\n",
            "[[[172.0, 1160.0], [229.0, 1160.0], [229.0, 1184.0], [172.0, 1184.0]], ('Yupp', 0.9969457983970642)]\n",
            "[[[172.0, 1193.0], [278.0, 1192.0], [278.0, 1216.0], [172.0, 1217.0]], ('it helps', 0.971205472946167)]\n",
            "[[[1.0, 1203.0], [21.0, 1203.0], [21.0, 1220.0], [1.0, 1220.0]], ('53', 0.9686412811279297)]\n",
            "[[[171.0, 1229.0], [228.0, 1229.0], [228.0, 1253.0], [171.0, 1253.0]], ('okay', 0.9967269897460938)]\n",
            "[[[8.0, 1241.0], [20.0, 1241.0], [20.0, 1252.0], [8.0, 1252.0]], ('A', 0.7990072965621948)]\n"
          ]
        }
      ]
    },
    {
      "cell_type": "code",
      "source": [
        "from paddleocr import PaddleOCR,draw_ocr\n",
        "# Paddleocr supports Chinese, English, French, German, Korean and Japanese.\n",
        "# You can set the parameter `lang` as `ch`, `en`, `fr`, `german`, `korean`, `japan`\n",
        "# to switch the language model in order.\n",
        "ocr = PaddleOCR(use_angle_cls=True, lang='en') # need to run only once to download and load model into memory\n",
        "img_path = '/content/drive/MyDrive/Paddle_Tut/ppocr_img/Real_life_imgs/text.jpg'\n",
        "result = ocr.ocr(img_path, cls=True)\n",
        "for idx in range(len(result)):\n",
        "    res = result[idx]\n",
        "    for line in res:\n",
        "        print(line)\n",
        "\n",
        "\n",
        "# draw result\n",
        "from PIL import Image\n",
        "result = result[0]\n",
        "image = Image.open(img_path).convert('RGB')\n",
        "boxes = [line[0] for line in result]\n",
        "txts = [line[1][0] for line in result]\n",
        "scores = [line[1][1] for line in result]\n",
        "im_show = draw_ocr(image, boxes, txts, scores, font_path='/content/drive/MyDrive/Paddle_Tut/ppocr_img/fonts/simfang.ttf')\n",
        "im_show = Image.fromarray(im_show)\n",
        "im_show.save('result.jpg')"
      ],
      "metadata": {
        "colab": {
          "base_uri": "https://localhost:8080/"
        },
        "id": "0nG5WJ77PNrS",
        "outputId": "7488ce65-f6cd-46c8-ca06-0f43a241d280"
      },
      "execution_count": 19,
      "outputs": [
        {
          "output_type": "stream",
          "name": "stdout",
          "text": [
            "[2024/08/11 15:56:18] ppocr DEBUG: Namespace(help='==SUPPRESS==', use_gpu=False, use_xpu=False, use_npu=False, use_mlu=False, ir_optim=True, use_tensorrt=False, min_subgraph_size=15, precision='fp32', gpu_mem=500, gpu_id=0, image_dir=None, page_num=0, det_algorithm='DB', det_model_dir='/root/.paddleocr/whl/det/en/en_PP-OCRv3_det_infer', det_limit_side_len=960, det_limit_type='max', det_box_type='quad', det_db_thresh=0.3, det_db_box_thresh=0.6, det_db_unclip_ratio=1.5, max_batch_size=10, use_dilation=False, det_db_score_mode='fast', det_east_score_thresh=0.8, det_east_cover_thresh=0.1, det_east_nms_thresh=0.2, det_sast_score_thresh=0.5, det_sast_nms_thresh=0.2, det_pse_thresh=0, det_pse_box_thresh=0.85, det_pse_min_area=16, det_pse_scale=1, scales=[8, 16, 32], alpha=1.0, beta=1.0, fourier_degree=5, rec_algorithm='SVTR_LCNet', rec_model_dir='/root/.paddleocr/whl/rec/en/en_PP-OCRv4_rec_infer', rec_image_inverse=True, rec_image_shape='3, 48, 320', rec_batch_num=6, max_text_length=25, rec_char_dict_path='/usr/local/lib/python3.10/dist-packages/paddleocr/ppocr/utils/en_dict.txt', use_space_char=True, vis_font_path='./doc/fonts/simfang.ttf', drop_score=0.5, e2e_algorithm='PGNet', e2e_model_dir=None, e2e_limit_side_len=768, e2e_limit_type='max', e2e_pgnet_score_thresh=0.5, e2e_char_dict_path='./ppocr/utils/ic15_dict.txt', e2e_pgnet_valid_set='totaltext', e2e_pgnet_mode='fast', use_angle_cls=True, cls_model_dir='/root/.paddleocr/whl/cls/ch_ppocr_mobile_v2.0_cls_infer', cls_image_shape='3, 48, 192', label_list=['0', '180'], cls_batch_num=6, cls_thresh=0.9, enable_mkldnn=False, cpu_threads=10, use_pdserving=False, warmup=False, sr_model_dir=None, sr_image_shape='3, 32, 128', sr_batch_num=1, draw_img_save_dir='./inference_results', save_crop_res=False, crop_res_save_dir='./output', use_mp=False, total_process_num=1, process_id=0, benchmark=False, save_log_path='./log_output/', show_log=True, use_onnx=False, return_word_box=False, output='./output', table_max_len=488, table_algorithm='TableAttn', table_model_dir=None, merge_no_span_structure=True, table_char_dict_path=None, layout_model_dir=None, layout_dict_path=None, layout_score_threshold=0.5, layout_nms_threshold=0.5, kie_algorithm='LayoutXLM', ser_model_dir=None, re_model_dir=None, use_visual_backbone=True, ser_dict_path='../train_data/XFUND/class_list_xfun.txt', ocr_order_method=None, mode='structure', image_orientation=False, layout=True, table=True, ocr=True, recovery=False, use_pdf2docx_api=False, invert=False, binarize=False, alphacolor=(255, 255, 255), lang='en', det=True, rec=True, type='ocr', savefile=False, ocr_version='PP-OCRv4', structure_version='PP-StructureV2')\n",
            "[2024/08/11 15:56:20] ppocr DEBUG: dt_boxes num : 31, elapsed : 0.25538158416748047\n",
            "[2024/08/11 15:56:20] ppocr DEBUG: cls num  : 31, elapsed : 0.10600066184997559\n",
            "[2024/08/11 15:56:26] ppocr DEBUG: rec_res num  : 31, elapsed : 5.877893686294556\n",
            "[[[33.0, 108.0], [110.0, 108.0], [110.0, 127.0], [33.0, 127.0]], ('HONEYW', 0.9874176383018494)]\n",
            "[[[181.0, 107.0], [315.0, 105.0], [315.0, 124.0], [181.0, 125.0]], ('Home|BX', 0.8300355672836304)]\n",
            "[[[337.0, 107.0], [472.0, 107.0], [472.0, 125.0], [337.0, 125.0]], ('HomeMX', 0.9164118766784668)]\n",
            "[[[530.0, 109.0], [592.0, 109.0], [592.0, 124.0], [530.0, 124.0]], ('ChatGPT', 0.9871545433998108)]\n",
            "[[[698.0, 109.0], [762.0, 109.0], [762.0, 128.0], [698.0, 128.0]], ('yAmdah', 0.9834968447685242)]\n",
            "[[[10.0, 165.0], [625.0, 165.0], [625.0, 183.0], [10.0, 183.0]], ('dra Sinqh/Video Analytics Resources/vss.pdf?CT=1707301196401&OR=', 0.9524807929992676)]\n",
            "[[[94.0, 233.0], [139.0, 233.0], [139.0, 252.0], [94.0, 252.0]], ('196%', 0.9985035061836243)]\n",
            "[[[217.0, 236.0], [240.0, 236.0], [240.0, 252.0], [217.0, 252.0]], ('H', 0.5273441076278687)]\n",
            "[[[1.0, 293.0], [12.0, 293.0], [12.0, 309.0], [1.0, 309.0]], ('r', 0.9946936964988708)]\n",
            "[[[86.0, 297.0], [878.0, 303.0], [878.0, 335.0], [86.0, 329.0]], ('optimizes the low-level performance of video data storage.As we', 0.9730666279792786)]\n",
            "[[[0.0, 313.0], [15.0, 313.0], [15.0, 336.0], [0.0, 336.0]], ('P', 0.8818655014038086)]\n",
            "[[[0.0, 341.0], [16.0, 341.0], [16.0, 364.0], [0.0, 364.0]], ('n', 0.9768539071083069)]\n",
            "[[[86.0, 333.0], [876.0, 345.0], [875.0, 376.0], [86.0, 364.0]], ('will show, this decoupling dramatically speeds up video processing', 0.9730095267295837)]\n",
            "[[[0.0, 365.0], [16.0, 365.0], [16.0, 388.0], [0.0, 388.0]], ('M', 0.9929195046424866)]\n",
            "[[[88.0, 371.0], [873.0, 381.0], [872.0, 413.0], [87.0, 403.0]], ('queries and decreases storage costs.VSS does this by addressing', 0.9586500525474548)]\n",
            "[[[0.0, 393.0], [19.0, 393.0], [19.0, 415.0], [0.0, 415.0]], ('h,', 0.9792253971099854)]\n",
            "[[[90.0, 405.0], [454.0, 412.0], [454.0, 440.0], [90.0, 433.0]], ('the following three challenges:', 0.9902358055114746)]\n",
            "[[[1.0, 421.0], [19.0, 421.0], [19.0, 440.0], [1.0, 440.0]], ('a', 0.9893819093704224)]\n",
            "[[[127.0, 444.0], [866.0, 455.0], [866.0, 483.0], [127.0, 472.0]], ('First, modern video applications commonly issue multiple queries', 0.9730666875839233)]\n",
            "[[[92.0, 479.0], [865.0, 489.0], [864.0, 520.0], [91.0, 509.0]], ('over the same (potentially overlapping) video regions and build on', 0.9627068638801575)]\n",
            "[[[94.0, 512.0], [863.0, 526.0], [863.0, 558.0], [94.0, 544.0]], ('each other in different ways (e.gFigure 1).Queries can also vary', 0.955687940120697)]\n",
            "[[[95.0, 546.0], [861.0, 562.0], [860.0, 592.0], [94.0, 577.0]], ('video resolution and other characteristics (e.g. the SMOL system', 0.9738376140594482)]\n",
            "[[[750.0, 1084.0], [777.0, 1084.0], [777.0, 1099.0], [750.0, 1099.0]], ('ENG', 0.9977372288703918)]\n",
            "[[[929.0, 1089.0], [949.0, 1089.0], [949.0, 1099.0], [929.0, 1099.0]], ('63', 0.5309666991233826)]\n",
            "[[[109.0, 1121.0], [196.0, 1126.0], [194.0, 1159.0], [107.0, 1154.0]], ('DELL', 0.94181227684021)]\n"
          ]
        }
      ]
    },
    {
      "cell_type": "code",
      "source": [
        "from paddleocr import PaddleOCR,draw_ocr\n",
        "# Paddleocr supports Chinese, English, French, German, Korean and Japanese.\n",
        "# You can set the parameter `lang` as `ch`, `en`, `fr`, `german`, `korean`, `japan`\n",
        "# to switch the language model in order.\n",
        "ocr = PaddleOCR(use_angle_cls=True, lang='en') # need to run only once to download and load model into memory\n",
        "img_path = '/content/drive/MyDrive/Paddle_Tut/ppocr_img/Real_life_imgs/wotd.jpg'\n",
        "result = ocr.ocr(img_path, cls=True)\n",
        "for idx in range(len(result)):\n",
        "    res = result[idx]\n",
        "    for line in res:\n",
        "        print(line)\n",
        "\n",
        "\n",
        "# draw result\n",
        "from PIL import Image\n",
        "result = result[0]\n",
        "image = Image.open(img_path).convert('RGB')\n",
        "boxes = [line[0] for line in result]\n",
        "txts = [line[1][0] for line in result]\n",
        "scores = [line[1][1] for line in result]\n",
        "im_show = draw_ocr(image, boxes, txts, scores, font_path='/content/drive/MyDrive/Paddle_Tut/ppocr_img/fonts/simfang.ttf')\n",
        "im_show = Image.fromarray(im_show)\n",
        "im_show.save('result.jpg')"
      ],
      "metadata": {
        "colab": {
          "base_uri": "https://localhost:8080/"
        },
        "id": "IR4-jq4DPWTt",
        "outputId": "ecd6c212-7941-47d5-a8a0-6cec2dc9f2d9"
      },
      "execution_count": 20,
      "outputs": [
        {
          "output_type": "stream",
          "name": "stdout",
          "text": [
            "[2024/08/11 15:56:27] ppocr DEBUG: Namespace(help='==SUPPRESS==', use_gpu=False, use_xpu=False, use_npu=False, use_mlu=False, ir_optim=True, use_tensorrt=False, min_subgraph_size=15, precision='fp32', gpu_mem=500, gpu_id=0, image_dir=None, page_num=0, det_algorithm='DB', det_model_dir='/root/.paddleocr/whl/det/en/en_PP-OCRv3_det_infer', det_limit_side_len=960, det_limit_type='max', det_box_type='quad', det_db_thresh=0.3, det_db_box_thresh=0.6, det_db_unclip_ratio=1.5, max_batch_size=10, use_dilation=False, det_db_score_mode='fast', det_east_score_thresh=0.8, det_east_cover_thresh=0.1, det_east_nms_thresh=0.2, det_sast_score_thresh=0.5, det_sast_nms_thresh=0.2, det_pse_thresh=0, det_pse_box_thresh=0.85, det_pse_min_area=16, det_pse_scale=1, scales=[8, 16, 32], alpha=1.0, beta=1.0, fourier_degree=5, rec_algorithm='SVTR_LCNet', rec_model_dir='/root/.paddleocr/whl/rec/en/en_PP-OCRv4_rec_infer', rec_image_inverse=True, rec_image_shape='3, 48, 320', rec_batch_num=6, max_text_length=25, rec_char_dict_path='/usr/local/lib/python3.10/dist-packages/paddleocr/ppocr/utils/en_dict.txt', use_space_char=True, vis_font_path='./doc/fonts/simfang.ttf', drop_score=0.5, e2e_algorithm='PGNet', e2e_model_dir=None, e2e_limit_side_len=768, e2e_limit_type='max', e2e_pgnet_score_thresh=0.5, e2e_char_dict_path='./ppocr/utils/ic15_dict.txt', e2e_pgnet_valid_set='totaltext', e2e_pgnet_mode='fast', use_angle_cls=True, cls_model_dir='/root/.paddleocr/whl/cls/ch_ppocr_mobile_v2.0_cls_infer', cls_image_shape='3, 48, 192', label_list=['0', '180'], cls_batch_num=6, cls_thresh=0.9, enable_mkldnn=False, cpu_threads=10, use_pdserving=False, warmup=False, sr_model_dir=None, sr_image_shape='3, 32, 128', sr_batch_num=1, draw_img_save_dir='./inference_results', save_crop_res=False, crop_res_save_dir='./output', use_mp=False, total_process_num=1, process_id=0, benchmark=False, save_log_path='./log_output/', show_log=True, use_onnx=False, return_word_box=False, output='./output', table_max_len=488, table_algorithm='TableAttn', table_model_dir=None, merge_no_span_structure=True, table_char_dict_path=None, layout_model_dir=None, layout_dict_path=None, layout_score_threshold=0.5, layout_nms_threshold=0.5, kie_algorithm='LayoutXLM', ser_model_dir=None, re_model_dir=None, use_visual_backbone=True, ser_dict_path='../train_data/XFUND/class_list_xfun.txt', ocr_order_method=None, mode='structure', image_orientation=False, layout=True, table=True, ocr=True, recovery=False, use_pdf2docx_api=False, invert=False, binarize=False, alphacolor=(255, 255, 255), lang='en', det=True, rec=True, type='ocr', savefile=False, ocr_version='PP-OCRv4', structure_version='PP-StructureV2')\n",
            "[2024/08/11 15:56:29] ppocr DEBUG: dt_boxes num : 13, elapsed : 0.2971014976501465\n",
            "[2024/08/11 15:56:29] ppocr DEBUG: cls num  : 13, elapsed : 0.05748939514160156\n",
            "[2024/08/11 15:56:30] ppocr DEBUG: rec_res num  : 13, elapsed : 1.2012534141540527\n",
            "[[[78.0, 84.0], [518.0, 84.0], [518.0, 110.0], [78.0, 110.0]], ('TUESDAY,FEBRUARY06,2024', 0.967405378818512)]\n",
            "[[[78.0, 170.0], [610.0, 170.0], [610.0, 241.0], [78.0, 241.0]], ('amalgamate', 0.9978782534599304)]\n",
            "[[[76.0, 271.0], [380.0, 273.0], [380.0, 310.0], [75.0, 307.0]], ('[ uh-mal-guh-meyt ]', 0.9689367413520813)]\n",
            "[[[75.0, 332.0], [225.0, 332.0], [225.0, 360.0], [75.0, 360.0]], ('SHOW IPA', 0.9647670388221741)]\n",
            "[[[90.0, 393.0], [116.0, 393.0], [116.0, 417.0], [90.0, 417.0]], ('D', 0.8947737812995911)]\n",
            "[[[72.0, 493.0], [136.0, 488.0], [138.0, 518.0], [75.0, 524.0]], ('verb', 0.9934914708137512)]\n",
            "[[[75.0, 566.0], [531.0, 566.0], [531.0, 592.0], [75.0, 592.0]], ('to mix or merge so as to make a', 0.9040789604187012)]\n",
            "[[[78.0, 601.0], [434.0, 601.0], [434.0, 628.0], [78.0, 628.0]], ('combination;blend;unite', 0.9607083797454834)]\n",
            "[[[72.0, 691.0], [161.0, 695.0], [159.0, 727.0], [71.0, 724.0]], ('LOOK', 0.9974836707115173)]\n",
            "[[[74.0, 728.0], [156.0, 728.0], [156.0, 757.0], [74.0, 757.0]], ('ITUP', 0.994160532951355)]\n",
            "[[[77.0, 851.0], [233.0, 851.0], [233.0, 877.0], [77.0, 877.0]], ('LEARN MORE', 0.9709459543228149)]\n",
            "[[[220.0, 1214.0], [500.0, 1214.0], [500.0, 1241.0], [220.0, 1241.0]], ('LEARN ABOUT THE', 0.956037163734436)]\n"
          ]
        }
      ]
    },
    {
      "cell_type": "code",
      "source": [],
      "metadata": {
        "id": "byildlJmgPLu"
      },
      "execution_count": 20,
      "outputs": []
    }
  ]
}