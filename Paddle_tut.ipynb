{
  "nbformat": 4,
  "nbformat_minor": 0,
  "metadata": {
    "colab": {
      "provenance": [],
      "authorship_tag": "ABX9TyNBYeXJvc4S9rdiINn0QQso",
      "include_colab_link": true
    },
    "kernelspec": {
      "name": "python3",
      "display_name": "Python 3"
    },
    "language_info": {
      "name": "python"
    }
  },
  "cells": [
    {
      "cell_type": "markdown",
      "metadata": {
        "id": "view-in-github",
        "colab_type": "text"
      },
      "source": [
        "<a href=\"https://colab.research.google.com/github/Rhythm001/Optical-Character-Recognition-using-PaddleOCR/blob/main/Paddle_tut.ipynb\" target=\"_parent\"><img src=\"https://colab.research.google.com/assets/colab-badge.svg\" alt=\"Open In Colab\"/></a>"
      ]
    },
    {
      "cell_type": "code",
      "execution_count": 21,
      "metadata": {
        "colab": {
          "base_uri": "https://localhost:8080/"
        },
        "id": "DdxmAfr2hTYd",
        "outputId": "8092b7b9-ee69-4558-cca2-b49c6841f22e"
      },
      "outputs": [
        {
          "output_type": "stream",
          "name": "stdout",
          "text": [
            "Looking in indexes: https://pypi.tuna.tsinghua.edu.cn/simple\n",
            "Requirement already satisfied: paddlepaddle in /usr/local/lib/python3.10/dist-packages (2.6.1)\n",
            "Requirement already satisfied: httpx in /usr/local/lib/python3.10/dist-packages (from paddlepaddle) (0.27.0)\n",
            "Requirement already satisfied: numpy>=1.13 in /usr/local/lib/python3.10/dist-packages (from paddlepaddle) (1.26.4)\n",
            "Requirement already satisfied: Pillow in /usr/local/lib/python3.10/dist-packages (from paddlepaddle) (9.4.0)\n",
            "Requirement already satisfied: decorator in /usr/local/lib/python3.10/dist-packages (from paddlepaddle) (4.4.2)\n",
            "Requirement already satisfied: astor in /usr/local/lib/python3.10/dist-packages (from paddlepaddle) (0.8.1)\n",
            "Requirement already satisfied: opt-einsum==3.3.0 in /usr/local/lib/python3.10/dist-packages (from paddlepaddle) (3.3.0)\n",
            "Requirement already satisfied: protobuf>=3.20.2 in /usr/local/lib/python3.10/dist-packages (from paddlepaddle) (3.20.3)\n",
            "Requirement already satisfied: anyio in /usr/local/lib/python3.10/dist-packages (from httpx->paddlepaddle) (3.7.1)\n",
            "Requirement already satisfied: certifi in /usr/local/lib/python3.10/dist-packages (from httpx->paddlepaddle) (2024.7.4)\n",
            "Requirement already satisfied: httpcore==1.* in /usr/local/lib/python3.10/dist-packages (from httpx->paddlepaddle) (1.0.5)\n",
            "Requirement already satisfied: idna in /usr/local/lib/python3.10/dist-packages (from httpx->paddlepaddle) (3.7)\n",
            "Requirement already satisfied: sniffio in /usr/local/lib/python3.10/dist-packages (from httpx->paddlepaddle) (1.3.1)\n",
            "Requirement already satisfied: h11<0.15,>=0.13 in /usr/local/lib/python3.10/dist-packages (from httpcore==1.*->httpx->paddlepaddle) (0.14.0)\n",
            "Requirement already satisfied: exceptiongroup in /usr/local/lib/python3.10/dist-packages (from anyio->httpx->paddlepaddle) (1.2.2)\n"
          ]
        }
      ],
      "source": [
        "!python3 -m pip install paddlepaddle -i https://pypi.tuna.tsinghua.edu.cn/simple"
      ]
    },
    {
      "cell_type": "code",
      "source": [
        "pip install \"paddleocr>=2.0.1\" # Recommend to use version 2.0.1+"
      ],
      "metadata": {
        "colab": {
          "base_uri": "https://localhost:8080/"
        },
        "id": "IyCikLDAiGuV",
        "outputId": "aca198a8-8a30-477f-b61a-4dead6ee22ad"
      },
      "execution_count": 22,
      "outputs": [
        {
          "output_type": "stream",
          "name": "stdout",
          "text": [
            "Requirement already satisfied: paddleocr>=2.0.1 in /usr/local/lib/python3.10/dist-packages (2.8.1)\n",
            "Requirement already satisfied: shapely in /usr/local/lib/python3.10/dist-packages (from paddleocr>=2.0.1) (2.0.5)\n",
            "Requirement already satisfied: scikit-image in /usr/local/lib/python3.10/dist-packages (from paddleocr>=2.0.1) (0.23.2)\n",
            "Requirement already satisfied: imgaug in /usr/local/lib/python3.10/dist-packages (from paddleocr>=2.0.1) (0.4.0)\n",
            "Requirement already satisfied: pyclipper in /usr/local/lib/python3.10/dist-packages (from paddleocr>=2.0.1) (1.3.0.post5)\n",
            "Requirement already satisfied: lmdb in /usr/local/lib/python3.10/dist-packages (from paddleocr>=2.0.1) (1.5.1)\n",
            "Requirement already satisfied: tqdm in /usr/local/lib/python3.10/dist-packages (from paddleocr>=2.0.1) (4.66.5)\n",
            "Requirement already satisfied: numpy<2.0 in /usr/local/lib/python3.10/dist-packages (from paddleocr>=2.0.1) (1.26.4)\n",
            "Requirement already satisfied: rapidfuzz in /usr/local/lib/python3.10/dist-packages (from paddleocr>=2.0.1) (3.9.6)\n",
            "Requirement already satisfied: opencv-python in /usr/local/lib/python3.10/dist-packages (from paddleocr>=2.0.1) (4.10.0.84)\n",
            "Requirement already satisfied: opencv-contrib-python in /usr/local/lib/python3.10/dist-packages (from paddleocr>=2.0.1) (4.10.0.84)\n",
            "Requirement already satisfied: cython in /usr/local/lib/python3.10/dist-packages (from paddleocr>=2.0.1) (3.0.11)\n",
            "Requirement already satisfied: Pillow in /usr/local/lib/python3.10/dist-packages (from paddleocr>=2.0.1) (9.4.0)\n",
            "Requirement already satisfied: pyyaml in /usr/local/lib/python3.10/dist-packages (from paddleocr>=2.0.1) (6.0.2)\n",
            "Requirement already satisfied: python-docx in /usr/local/lib/python3.10/dist-packages (from paddleocr>=2.0.1) (1.1.2)\n",
            "Requirement already satisfied: beautifulsoup4 in /usr/local/lib/python3.10/dist-packages (from paddleocr>=2.0.1) (4.12.3)\n",
            "Requirement already satisfied: fonttools>=4.24.0 in /usr/local/lib/python3.10/dist-packages (from paddleocr>=2.0.1) (4.53.1)\n",
            "Requirement already satisfied: fire>=0.3.0 in /usr/local/lib/python3.10/dist-packages (from paddleocr>=2.0.1) (0.6.0)\n",
            "Requirement already satisfied: requests in /usr/local/lib/python3.10/dist-packages (from paddleocr>=2.0.1) (2.32.3)\n",
            "Requirement already satisfied: six in /usr/local/lib/python3.10/dist-packages (from fire>=0.3.0->paddleocr>=2.0.1) (1.16.0)\n",
            "Requirement already satisfied: termcolor in /usr/local/lib/python3.10/dist-packages (from fire>=0.3.0->paddleocr>=2.0.1) (2.4.0)\n",
            "Requirement already satisfied: soupsieve>1.2 in /usr/local/lib/python3.10/dist-packages (from beautifulsoup4->paddleocr>=2.0.1) (2.5)\n",
            "Requirement already satisfied: scipy in /usr/local/lib/python3.10/dist-packages (from imgaug->paddleocr>=2.0.1) (1.13.1)\n",
            "Requirement already satisfied: matplotlib in /usr/local/lib/python3.10/dist-packages (from imgaug->paddleocr>=2.0.1) (3.7.1)\n",
            "Requirement already satisfied: imageio in /usr/local/lib/python3.10/dist-packages (from imgaug->paddleocr>=2.0.1) (2.34.2)\n",
            "Requirement already satisfied: networkx>=2.8 in /usr/local/lib/python3.10/dist-packages (from scikit-image->paddleocr>=2.0.1) (3.3)\n",
            "Requirement already satisfied: tifffile>=2022.8.12 in /usr/local/lib/python3.10/dist-packages (from scikit-image->paddleocr>=2.0.1) (2024.7.24)\n",
            "Requirement already satisfied: packaging>=21 in /usr/local/lib/python3.10/dist-packages (from scikit-image->paddleocr>=2.0.1) (24.1)\n",
            "Requirement already satisfied: lazy-loader>=0.4 in /usr/local/lib/python3.10/dist-packages (from scikit-image->paddleocr>=2.0.1) (0.4)\n",
            "Requirement already satisfied: lxml>=3.1.0 in /usr/local/lib/python3.10/dist-packages (from python-docx->paddleocr>=2.0.1) (4.9.4)\n",
            "Requirement already satisfied: typing-extensions>=4.9.0 in /usr/local/lib/python3.10/dist-packages (from python-docx->paddleocr>=2.0.1) (4.12.2)\n",
            "Requirement already satisfied: charset-normalizer<4,>=2 in /usr/local/lib/python3.10/dist-packages (from requests->paddleocr>=2.0.1) (3.3.2)\n",
            "Requirement already satisfied: idna<4,>=2.5 in /usr/local/lib/python3.10/dist-packages (from requests->paddleocr>=2.0.1) (3.7)\n",
            "Requirement already satisfied: urllib3<3,>=1.21.1 in /usr/local/lib/python3.10/dist-packages (from requests->paddleocr>=2.0.1) (2.0.7)\n",
            "Requirement already satisfied: certifi>=2017.4.17 in /usr/local/lib/python3.10/dist-packages (from requests->paddleocr>=2.0.1) (2024.7.4)\n",
            "Requirement already satisfied: contourpy>=1.0.1 in /usr/local/lib/python3.10/dist-packages (from matplotlib->imgaug->paddleocr>=2.0.1) (1.2.1)\n",
            "Requirement already satisfied: cycler>=0.10 in /usr/local/lib/python3.10/dist-packages (from matplotlib->imgaug->paddleocr>=2.0.1) (0.12.1)\n",
            "Requirement already satisfied: kiwisolver>=1.0.1 in /usr/local/lib/python3.10/dist-packages (from matplotlib->imgaug->paddleocr>=2.0.1) (1.4.5)\n",
            "Requirement already satisfied: pyparsing>=2.3.1 in /usr/local/lib/python3.10/dist-packages (from matplotlib->imgaug->paddleocr>=2.0.1) (3.1.2)\n",
            "Requirement already satisfied: python-dateutil>=2.7 in /usr/local/lib/python3.10/dist-packages (from matplotlib->imgaug->paddleocr>=2.0.1) (2.8.2)\n"
          ]
        }
      ]
    },
    {
      "cell_type": "code",
      "source": [
        "from google.colab import drive\n",
        "drive.mount('/content/drive')"
      ],
      "metadata": {
        "id": "El2_ryR3jPXK",
        "colab": {
          "base_uri": "https://localhost:8080/"
        },
        "outputId": "35d84403-b9cf-473c-f80f-9401bdddceb8"
      },
      "execution_count": 23,
      "outputs": [
        {
          "output_type": "stream",
          "name": "stdout",
          "text": [
            "Drive already mounted at /content/drive; to attempt to forcibly remount, call drive.mount(\"/content/drive\", force_remount=True).\n"
          ]
        }
      ]
    },
    {
      "cell_type": "markdown",
      "source": [
        "**Detection angle classification and recognition**"
      ],
      "metadata": {
        "id": "LWM9jXgY2Fwt"
      }
    },
    {
      "cell_type": "code",
      "source": [
        "!paddleocr --image_dir /content/drive/MyDrive/Paddle_Tut/ppocr_img/imgs_en/Ocr_demo.pdf --use_angle_cls true --lang en --use_gpu false"
      ],
      "metadata": {
        "colab": {
          "base_uri": "https://localhost:8080/"
        },
        "id": "tsP8-h3x7KDR",
        "outputId": "3ca51d09-d445-4e28-8dfe-26f91f65513b"
      },
      "execution_count": 24,
      "outputs": [
        {
          "output_type": "stream",
          "name": "stdout",
          "text": [
            "[2024/08/11 16:07:38] ppocr DEBUG: Namespace(help='==SUPPRESS==', use_gpu=False, use_xpu=False, use_npu=False, use_mlu=False, ir_optim=True, use_tensorrt=False, min_subgraph_size=15, precision='fp32', gpu_mem=500, gpu_id=0, image_dir='/content/drive/MyDrive/Paddle_Tut/ppocr_img/imgs_en/Ocr_demo.pdf', page_num=0, det_algorithm='DB', det_model_dir='/root/.paddleocr/whl/det/en/en_PP-OCRv3_det_infer', det_limit_side_len=960, det_limit_type='max', det_box_type='quad', det_db_thresh=0.3, det_db_box_thresh=0.6, det_db_unclip_ratio=1.5, max_batch_size=10, use_dilation=False, det_db_score_mode='fast', det_east_score_thresh=0.8, det_east_cover_thresh=0.1, det_east_nms_thresh=0.2, det_sast_score_thresh=0.5, det_sast_nms_thresh=0.2, det_pse_thresh=0, det_pse_box_thresh=0.85, det_pse_min_area=16, det_pse_scale=1, scales=[8, 16, 32], alpha=1.0, beta=1.0, fourier_degree=5, rec_algorithm='SVTR_LCNet', rec_model_dir='/root/.paddleocr/whl/rec/en/en_PP-OCRv4_rec_infer', rec_image_inverse=True, rec_image_shape='3, 48, 320', rec_batch_num=6, max_text_length=25, rec_char_dict_path='/usr/local/lib/python3.10/dist-packages/paddleocr/ppocr/utils/en_dict.txt', use_space_char=True, vis_font_path='./doc/fonts/simfang.ttf', drop_score=0.5, e2e_algorithm='PGNet', e2e_model_dir=None, e2e_limit_side_len=768, e2e_limit_type='max', e2e_pgnet_score_thresh=0.5, e2e_char_dict_path='./ppocr/utils/ic15_dict.txt', e2e_pgnet_valid_set='totaltext', e2e_pgnet_mode='fast', use_angle_cls=True, cls_model_dir='/root/.paddleocr/whl/cls/ch_ppocr_mobile_v2.0_cls_infer', cls_image_shape='3, 48, 192', label_list=['0', '180'], cls_batch_num=6, cls_thresh=0.9, enable_mkldnn=False, cpu_threads=10, use_pdserving=False, warmup=False, sr_model_dir=None, sr_image_shape='3, 32, 128', sr_batch_num=1, draw_img_save_dir='./inference_results', save_crop_res=False, crop_res_save_dir='./output', use_mp=False, total_process_num=1, process_id=0, benchmark=False, save_log_path='./log_output/', show_log=True, use_onnx=False, return_word_box=False, output='./output', table_max_len=488, table_algorithm='TableAttn', table_model_dir=None, merge_no_span_structure=True, table_char_dict_path=None, layout_model_dir=None, layout_dict_path=None, layout_score_threshold=0.5, layout_nms_threshold=0.5, kie_algorithm='LayoutXLM', ser_model_dir=None, re_model_dir=None, use_visual_backbone=True, ser_dict_path='../train_data/XFUND/class_list_xfun.txt', ocr_order_method=None, mode='structure', image_orientation=False, layout=True, table=True, ocr=True, recovery=False, use_pdf2docx_api=False, invert=False, binarize=False, alphacolor=(255, 255, 255), lang='en', det=True, rec=True, type='ocr', savefile=False, ocr_version='PP-OCRv4', structure_version='PP-StructureV2')\n",
            "[2024/08/11 16:07:43] ppocr INFO: **********/content/drive/MyDrive/Paddle_Tut/ppocr_img/imgs_en/Ocr_demo.pdf**********\n",
            "Traceback (most recent call last):\n",
            "  File \"/usr/local/lib/python3.10/dist-packages/paddle/utils/lazy_import.py\", line 32, in try_import\n",
            "    mod = importlib.import_module(module_name)\n",
            "  File \"/usr/lib/python3.10/importlib/__init__.py\", line 126, in import_module\n",
            "    return _bootstrap._gcd_import(name[level:], package, level)\n",
            "  File \"<frozen importlib._bootstrap>\", line 1050, in _gcd_import\n",
            "  File \"<frozen importlib._bootstrap>\", line 1027, in _find_and_load\n",
            "  File \"<frozen importlib._bootstrap>\", line 1004, in _find_and_load_unlocked\n",
            "ModuleNotFoundError: No module named 'fitz'\n",
            "\n",
            "During handling of the above exception, another exception occurred:\n",
            "\n",
            "Traceback (most recent call last):\n",
            "  File \"/usr/local/bin/paddleocr\", line 8, in <module>\n",
            "    sys.exit(main())\n",
            "  File \"/usr/local/lib/python3.10/dist-packages/paddleocr/paddleocr.py\", line 882, in main\n",
            "    result = engine.ocr(\n",
            "  File \"/usr/local/lib/python3.10/dist-packages/paddleocr/paddleocr.py\", line 707, in ocr\n",
            "    img, flag_gif, flag_pdf = check_img(img, alpha_color)\n",
            "  File \"/usr/local/lib/python3.10/dist-packages/paddleocr/paddleocr.py\", line 574, in check_img\n",
            "    img, flag_gif, flag_pdf = check_and_read(image_file)\n",
            "  File \"/usr/local/lib/python3.10/dist-packages/paddleocr/ppocr/utils/utility.py\", line 123, in check_and_read\n",
            "    fitz = try_import(\"fitz\")\n",
            "  File \"/usr/local/lib/python3.10/dist-packages/paddle/utils/lazy_import.py\", line 41, in try_import\n",
            "    raise ImportError(err_msg)\n",
            "ImportError: Failed importing fitz. This likely means that some paddle modules require additional dependencies that have to be manually installed (usually with `pip install fitz`). \n"
          ]
        }
      ]
    },
    {
      "cell_type": "code",
      "source": [
        "pip install Pillow"
      ],
      "metadata": {
        "colab": {
          "base_uri": "https://localhost:8080/"
        },
        "id": "rRaVbxo1EuEk",
        "outputId": "27eba3ce-41f2-46d9-ff33-580094627954"
      },
      "execution_count": 25,
      "outputs": [
        {
          "output_type": "stream",
          "name": "stdout",
          "text": [
            "Requirement already satisfied: Pillow in /usr/local/lib/python3.10/dist-packages (9.4.0)\n"
          ]
        }
      ]
    },
    {
      "cell_type": "code",
      "source": [
        "import PIL"
      ],
      "metadata": {
        "id": "gHCBlM7LEyek"
      },
      "execution_count": 26,
      "outputs": []
    },
    {
      "cell_type": "code",
      "source": [
        "PIL.__version__"
      ],
      "metadata": {
        "colab": {
          "base_uri": "https://localhost:8080/",
          "height": 35
        },
        "id": "08gRas27E5OY",
        "outputId": "3ce311df-f8cf-4f4e-91fc-49c57186013e"
      },
      "execution_count": 27,
      "outputs": [
        {
          "output_type": "execute_result",
          "data": {
            "text/plain": [
              "'9.4.0'"
            ],
            "application/vnd.google.colaboratory.intrinsic+json": {
              "type": "string"
            }
          },
          "metadata": {},
          "execution_count": 27
        }
      ]
    },
    {
      "cell_type": "code",
      "source": [
        "from PIL import Image\n",
        "\n",
        "# Load the image\n",
        "result_image = Image.open('result.jpg')\n",
        "\n",
        "# Display the image\n",
        "result_image.show()\n"
      ],
      "metadata": {
        "id": "kATatWv_Ga5L"
      },
      "execution_count": 28,
      "outputs": []
    },
    {
      "cell_type": "code",
      "source": [
        "from paddleocr import PaddleOCR,draw_ocr\n",
        "# Paddleocr supports Chinese, English, French, German, Korean and Japanese.\n",
        "# You can set the parameter `lang` as `ch`, `en`, `fr`, `german`, `korean`, `japan`\n",
        "# to switch the language model in order.\n",
        "ocr = PaddleOCR(use_angle_cls=True, lang='en') # need to run only once to download and load model into memory\n",
        "img_path = '/content/drive/MyDrive/Paddle_Tut/ppocr_img/Real_life_imgs/apriori.jpg'\n",
        "result = ocr.ocr(img_path, cls=True)\n",
        "for idx in range(len(result)):\n",
        "    res = result[idx]\n",
        "    for line in res:\n",
        "        print(line)\n",
        "\n",
        "\n",
        "# draw result\n",
        "from PIL import Image\n",
        "result = result[0]\n",
        "image = Image.open(img_path).convert('RGB')\n",
        "boxes = [line[0] for line in result]\n",
        "txts = [line[1][0] for line in result]\n",
        "scores = [line[1][1] for line in result]\n",
        "im_show = draw_ocr(image, boxes, txts, scores, font_path='/content/drive/MyDrive/Paddle_Tut/ppocr_img/fonts/simfang.ttf')\n",
        "im_show = Image.fromarray(im_show)\n",
        "im_show.save('result.jpg')"
      ],
      "metadata": {
        "colab": {
          "base_uri": "https://localhost:8080/"
        },
        "id": "o3UxlHpjObhd",
        "outputId": "c52b48d2-3386-4eb6-9f27-0e314141c7ad"
      },
      "execution_count": 29,
      "outputs": [
        {
          "output_type": "stream",
          "name": "stdout",
          "text": [
            "[2024/08/11 16:07:51] ppocr DEBUG: Namespace(help='==SUPPRESS==', use_gpu=False, use_xpu=False, use_npu=False, use_mlu=False, ir_optim=True, use_tensorrt=False, min_subgraph_size=15, precision='fp32', gpu_mem=500, gpu_id=0, image_dir=None, page_num=0, det_algorithm='DB', det_model_dir='/root/.paddleocr/whl/det/en/en_PP-OCRv3_det_infer', det_limit_side_len=960, det_limit_type='max', det_box_type='quad', det_db_thresh=0.3, det_db_box_thresh=0.6, det_db_unclip_ratio=1.5, max_batch_size=10, use_dilation=False, det_db_score_mode='fast', det_east_score_thresh=0.8, det_east_cover_thresh=0.1, det_east_nms_thresh=0.2, det_sast_score_thresh=0.5, det_sast_nms_thresh=0.2, det_pse_thresh=0, det_pse_box_thresh=0.85, det_pse_min_area=16, det_pse_scale=1, scales=[8, 16, 32], alpha=1.0, beta=1.0, fourier_degree=5, rec_algorithm='SVTR_LCNet', rec_model_dir='/root/.paddleocr/whl/rec/en/en_PP-OCRv4_rec_infer', rec_image_inverse=True, rec_image_shape='3, 48, 320', rec_batch_num=6, max_text_length=25, rec_char_dict_path='/usr/local/lib/python3.10/dist-packages/paddleocr/ppocr/utils/en_dict.txt', use_space_char=True, vis_font_path='./doc/fonts/simfang.ttf', drop_score=0.5, e2e_algorithm='PGNet', e2e_model_dir=None, e2e_limit_side_len=768, e2e_limit_type='max', e2e_pgnet_score_thresh=0.5, e2e_char_dict_path='./ppocr/utils/ic15_dict.txt', e2e_pgnet_valid_set='totaltext', e2e_pgnet_mode='fast', use_angle_cls=True, cls_model_dir='/root/.paddleocr/whl/cls/ch_ppocr_mobile_v2.0_cls_infer', cls_image_shape='3, 48, 192', label_list=['0', '180'], cls_batch_num=6, cls_thresh=0.9, enable_mkldnn=False, cpu_threads=10, use_pdserving=False, warmup=False, sr_model_dir=None, sr_image_shape='3, 32, 128', sr_batch_num=1, draw_img_save_dir='./inference_results', save_crop_res=False, crop_res_save_dir='./output', use_mp=False, total_process_num=1, process_id=0, benchmark=False, save_log_path='./log_output/', show_log=True, use_onnx=False, return_word_box=False, output='./output', table_max_len=488, table_algorithm='TableAttn', table_model_dir=None, merge_no_span_structure=True, table_char_dict_path=None, layout_model_dir=None, layout_dict_path=None, layout_score_threshold=0.5, layout_nms_threshold=0.5, kie_algorithm='LayoutXLM', ser_model_dir=None, re_model_dir=None, use_visual_backbone=True, ser_dict_path='../train_data/XFUND/class_list_xfun.txt', ocr_order_method=None, mode='structure', image_orientation=False, layout=True, table=True, ocr=True, recovery=False, use_pdf2docx_api=False, invert=False, binarize=False, alphacolor=(255, 255, 255), lang='en', det=True, rec=True, type='ocr', savefile=False, ocr_version='PP-OCRv4', structure_version='PP-StructureV2')\n",
            "[2024/08/11 16:07:54] ppocr DEBUG: dt_boxes num : 20, elapsed : 0.6149017810821533\n",
            "[2024/08/11 16:07:54] ppocr DEBUG: cls num  : 20, elapsed : 0.16726088523864746\n",
            "[2024/08/11 16:07:57] ppocr DEBUG: rec_res num  : 20, elapsed : 3.4082186222076416\n",
            "[[[133.0, 37.0], [198.0, 37.0], [198.0, 72.0], [133.0, 72.0]], ('Tu', 0.6409651041030884)]\n",
            "[[[275.0, 37.0], [526.0, 37.0], [526.0, 68.0], [275.0, 68.0]], ('List ofitem_JDs', 0.8598135709762573)]\n",
            "[[[123.0, 91.0], [207.0, 91.0], [207.0, 122.0], [123.0, 122.0]], ('T100', 0.9697503447532654)]\n",
            "[[[270.0, 91.0], [407.0, 89.0], [408.0, 119.0], [270.0, 121.0]], ('1112,15', 0.8310779929161072)]\n",
            "[[[124.0, 132.0], [207.0, 132.0], [207.0, 164.0], [124.0, 164.0]], ('T200', 0.7668139934539795)]\n",
            "[[[271.0, 131.0], [359.0, 131.0], [359.0, 163.0], [271.0, 163.0]], ('12,14', 0.9568998217582703)]\n",
            "[[[123.0, 173.0], [207.0, 173.0], [207.0, 204.0], [123.0, 204.0]], ('T300', 0.997700035572052)]\n",
            "[[[270.0, 173.0], [358.0, 173.0], [358.0, 205.0], [270.0, 205.0]], ('12,3', 0.9530712962150574)]\n",
            "[[[123.0, 215.0], [206.0, 215.0], [206.0, 244.0], [123.0, 244.0]], ('T400', 0.9974349737167358)]\n",
            "[[[271.0, 215.0], [407.0, 215.0], [407.0, 246.0], [271.0, 246.0]], ('1112,14', 0.9030979871749878)]\n",
            "[[[123.0, 255.0], [206.0, 255.0], [206.0, 287.0], [123.0, 287.0]], ('T500', 0.9955481290817261)]\n",
            "[[[270.0, 257.0], [359.0, 257.0], [359.0, 290.0], [270.0, 290.0]], ('11,13', 0.9021890759468079)]\n",
            "[[[123.0, 297.0], [208.0, 297.0], [208.0, 328.0], [123.0, 328.0]], ('T700', 0.5520669221878052)]\n",
            "[[[269.0, 300.0], [357.0, 298.0], [358.0, 330.0], [270.0, 333.0]], ('12,13', 0.9337844848632812)]\n",
            "[[[123.0, 338.0], [208.0, 338.0], [208.0, 370.0], [123.0, 370.0]], ('T700', 0.9664795398712158)]\n",
            "[[[270.0, 341.0], [358.0, 339.0], [359.0, 372.0], [271.0, 374.0]], ('11,13', 0.8980439901351929)]\n",
            "[[[123.0, 381.0], [207.0, 381.0], [207.0, 412.0], [123.0, 412.0]], ('T500', 0.6231464147567749)]\n",
            "[[[272.0, 387.0], [457.0, 387.0], [457.0, 414.0], [272.0, 414.0]], ('11,12,13,15', 0.8577604293823242)]\n",
            "[[[123.0, 422.0], [209.0, 422.0], [209.0, 454.0], [123.0, 454.0]], ('0060.', 0.6147082448005676)]\n",
            "[[[271.0, 427.0], [408.0, 427.0], [408.0, 458.0], [271.0, 458.0]], ('11,12,13', 0.9182196855545044)]\n"
          ]
        }
      ]
    },
    {
      "cell_type": "code",
      "source": [
        "import matplotlib.pyplot as plt\n",
        "\n",
        "# Load the image\n",
        "result_image = Image.open('result.jpg')\n",
        "\n",
        "# Display the image using Matplotlib\n",
        "plt.imshow(result_image)\n",
        "plt.axis('off')  # Hide axes\n",
        "plt.show()\n"
      ],
      "metadata": {
        "id": "CncFed-pGpVm",
        "outputId": "37a5287d-000e-4ad1-bfd9-a53dd3514ea8",
        "colab": {
          "base_uri": "https://localhost:8080/",
          "height": 159
        }
      },
      "execution_count": 30,
      "outputs": [
        {
          "output_type": "display_data",
          "data": {
            "text/plain": [
              "<Figure size 640x480 with 1 Axes>"
            ],
            "image/png": "[encoded data removed]"
          },
          "metadata": {}
        }
      ]
    },
    {
      "cell_type": "code",
      "source": [
        "from paddleocr import PaddleOCR,draw_ocr\n",
        "# Paddleocr supports Chinese, English, French, German, Korean and Japanese.\n",
        "# You can set the parameter `lang` as `ch`, `en`, `fr`, `german`, `korean`, `japan`\n",
        "# to switch the language model in order.\n",
        "ocr = PaddleOCR(use_angle_cls=True, lang='en') # need to run only once to download and load model into memory\n",
        "img_path = '/content/drive/MyDrive/Paddle_Tut/ppocr_img/Real_life_imgs/abc.jpg'\n",
        "result = ocr.ocr(img_path, cls=True)\n",
        "for idx in range(len(result)):\n",
        "    res = result[idx]\n",
        "    for line in res:\n",
        "        print(line)\n",
        "\n",
        "\n",
        "# draw result\n",
        "from PIL import Image\n",
        "result = result[0]\n",
        "image = Image.open(img_path).convert('RGB')\n",
        "boxes = [line[0] for line in result]\n",
        "txts = [line[1][0] for line in result]\n",
        "scores = [line[1][1] for line in result]\n",
        "im_show = draw_ocr(image, boxes, txts, scores, font_path='/content/drive/MyDrive/Paddle_Tut/ppocr_img/fonts/simfang.ttf')\n",
        "im_show = Image.fromarray(im_show)\n",
        "im_show.save('result.jpg')"
      ],
      "metadata": {
        "colab": {
          "base_uri": "https://localhost:8080/"
        },
        "id": "repesW6sOz-H",
        "outputId": "b8bce0a5-4514-43ee-b7c6-ba1dde949a6e"
      },
      "execution_count": 31,
      "outputs": [
        {
          "output_type": "stream",
          "name": "stdout",
          "text": [
            "[2024/08/11 16:07:58] ppocr DEBUG: Namespace(help='==SUPPRESS==', use_gpu=False, use_xpu=False, use_npu=False, use_mlu=False, ir_optim=True, use_tensorrt=False, min_subgraph_size=15, precision='fp32', gpu_mem=500, gpu_id=0, image_dir=None, page_num=0, det_algorithm='DB', det_model_dir='/root/.paddleocr/whl/det/en/en_PP-OCRv3_det_infer', det_limit_side_len=960, det_limit_type='max', det_box_type='quad', det_db_thresh=0.3, det_db_box_thresh=0.6, det_db_unclip_ratio=1.5, max_batch_size=10, use_dilation=False, det_db_score_mode='fast', det_east_score_thresh=0.8, det_east_cover_thresh=0.1, det_east_nms_thresh=0.2, det_sast_score_thresh=0.5, det_sast_nms_thresh=0.2, det_pse_thresh=0, det_pse_box_thresh=0.85, det_pse_min_area=16, det_pse_scale=1, scales=[8, 16, 32], alpha=1.0, beta=1.0, fourier_degree=5, rec_algorithm='SVTR_LCNet', rec_model_dir='/root/.paddleocr/whl/rec/en/en_PP-OCRv4_rec_infer', rec_image_inverse=True, rec_image_shape='3, 48, 320', rec_batch_num=6, max_text_length=25, rec_char_dict_path='/usr/local/lib/python3.10/dist-packages/paddleocr/ppocr/utils/en_dict.txt', use_space_char=True, vis_font_path='./doc/fonts/simfang.ttf', drop_score=0.5, e2e_algorithm='PGNet', e2e_model_dir=None, e2e_limit_side_len=768, e2e_limit_type='max', e2e_pgnet_score_thresh=0.5, e2e_char_dict_path='./ppocr/utils/ic15_dict.txt', e2e_pgnet_valid_set='totaltext', e2e_pgnet_mode='fast', use_angle_cls=True, cls_model_dir='/root/.paddleocr/whl/cls/ch_ppocr_mobile_v2.0_cls_infer', cls_image_shape='3, 48, 192', label_list=['0', '180'], cls_batch_num=6, cls_thresh=0.9, enable_mkldnn=False, cpu_threads=10, use_pdserving=False, warmup=False, sr_model_dir=None, sr_image_shape='3, 32, 128', sr_batch_num=1, draw_img_save_dir='./inference_results', save_crop_res=False, crop_res_save_dir='./output', use_mp=False, total_process_num=1, process_id=0, benchmark=False, save_log_path='./log_output/', show_log=True, use_onnx=False, return_word_box=False, output='./output', table_max_len=488, table_algorithm='TableAttn', table_model_dir=None, merge_no_span_structure=True, table_char_dict_path=None, layout_model_dir=None, layout_dict_path=None, layout_score_threshold=0.5, layout_nms_threshold=0.5, kie_algorithm='LayoutXLM', ser_model_dir=None, re_model_dir=None, use_visual_backbone=True, ser_dict_path='../train_data/XFUND/class_list_xfun.txt', ocr_order_method=None, mode='structure', image_orientation=False, layout=True, table=True, ocr=True, recovery=False, use_pdf2docx_api=False, invert=False, binarize=False, alphacolor=(255, 255, 255), lang='en', det=True, rec=True, type='ocr', savefile=False, ocr_version='PP-OCRv4', structure_version='PP-StructureV2')\n",
            "[2024/08/11 16:08:01] ppocr DEBUG: dt_boxes num : 8, elapsed : 0.4563770294189453\n",
            "[2024/08/11 16:08:01] ppocr DEBUG: cls num  : 8, elapsed : 0.06576728820800781\n",
            "[2024/08/11 16:08:02] ppocr DEBUG: rec_res num  : 8, elapsed : 1.1153349876403809\n",
            "[[[213.0, 151.0], [261.0, 151.0], [261.0, 184.0], [213.0, 184.0]], ('Ps', 0.8075256943702698)]\n",
            "[[[224.0, 211.0], [1027.0, 118.0], [1036.0, 198.0], [233.0, 291.0]], ('ADD YOUR DESIGN', 0.950684130191803)]\n",
            "[[[180.0, 306.0], [1031.0, 231.0], [1038.0, 308.0], [187.0, 383.0]], ('ON TOABILLBOARI', 0.9075803160667419)]\n",
            "[[[188.0, 396.0], [976.0, 341.0], [982.0, 427.0], [194.0, 482.0]], ('WITH PHOTOSHOP', 0.9604317545890808)]\n"
          ]
        }
      ]
    },
    {
      "cell_type": "code",
      "source": [
        "from paddleocr import PaddleOCR,draw_ocr\n",
        "# Paddleocr supports Chinese, English, French, German, Korean and Japanese.\n",
        "# You can set the parameter `lang` as `ch`, `en`, `fr`, `german`, `korean`, `japan`\n",
        "# to switch the language model in order.\n",
        "ocr = PaddleOCR(use_angle_cls=True, lang='en') # need to run only once to download and load model into memory\n",
        "img_path = '/content/drive/MyDrive/Paddle_Tut/ppocr_img/Real_life_imgs/dark_chocolate.jpg'\n",
        "result = ocr.ocr(img_path, cls=True)\n",
        "for idx in range(len(result)):\n",
        "    res = result[idx]\n",
        "    for line in res:\n",
        "        print(line)\n",
        "\n",
        "\n",
        "# draw result\n",
        "from PIL import Image\n",
        "result = result[0]\n",
        "image = Image.open(img_path).convert('RGB')\n",
        "boxes = [line[0] for line in result]\n",
        "txts = [line[1][0] for line in result]\n",
        "scores = [line[1][1] for line in result]\n",
        "im_show = draw_ocr(image, boxes, txts, scores, font_path='/content/drive/MyDrive/Paddle_Tut/ppocr_img/fonts/simfang.ttf')\n",
        "im_show = Image.fromarray(im_show)\n",
        "im_show.save('result.jpg')"
      ],
      "metadata": {
        "colab": {
          "base_uri": "https://localhost:8080/"
        },
        "id": "9eZ7g1PtPAIO",
        "outputId": "43de3a3a-1508-49fc-f3fc-4c1bf201caab"
      },
      "execution_count": 33,
      "outputs": [
        {
          "output_type": "stream",
          "name": "stdout",
          "text": [
            "[2024/08/11 16:08:34] ppocr DEBUG: Namespace(help='==SUPPRESS==', use_gpu=False, use_xpu=False, use_npu=False, use_mlu=False, ir_optim=True, use_tensorrt=False, min_subgraph_size=15, precision='fp32', gpu_mem=500, gpu_id=0, image_dir=None, page_num=0, det_algorithm='DB', det_model_dir='/root/.paddleocr/whl/det/en/en_PP-OCRv3_det_infer', det_limit_side_len=960, det_limit_type='max', det_box_type='quad', det_db_thresh=0.3, det_db_box_thresh=0.6, det_db_unclip_ratio=1.5, max_batch_size=10, use_dilation=False, det_db_score_mode='fast', det_east_score_thresh=0.8, det_east_cover_thresh=0.1, det_east_nms_thresh=0.2, det_sast_score_thresh=0.5, det_sast_nms_thresh=0.2, det_pse_thresh=0, det_pse_box_thresh=0.85, det_pse_min_area=16, det_pse_scale=1, scales=[8, 16, 32], alpha=1.0, beta=1.0, fourier_degree=5, rec_algorithm='SVTR_LCNet', rec_model_dir='/root/.paddleocr/whl/rec/en/en_PP-OCRv4_rec_infer', rec_image_inverse=True, rec_image_shape='3, 48, 320', rec_batch_num=6, max_text_length=25, rec_char_dict_path='/usr/local/lib/python3.10/dist-packages/paddleocr/ppocr/utils/en_dict.txt', use_space_char=True, vis_font_path='./doc/fonts/simfang.ttf', drop_score=0.5, e2e_algorithm='PGNet', e2e_model_dir=None, e2e_limit_side_len=768, e2e_limit_type='max', e2e_pgnet_score_thresh=0.5, e2e_char_dict_path='./ppocr/utils/ic15_dict.txt', e2e_pgnet_valid_set='totaltext', e2e_pgnet_mode='fast', use_angle_cls=True, cls_model_dir='/root/.paddleocr/whl/cls/ch_ppocr_mobile_v2.0_cls_infer', cls_image_shape='3, 48, 192', label_list=['0', '180'], cls_batch_num=6, cls_thresh=0.9, enable_mkldnn=False, cpu_threads=10, use_pdserving=False, warmup=False, sr_model_dir=None, sr_image_shape='3, 32, 128', sr_batch_num=1, draw_img_save_dir='./inference_results', save_crop_res=False, crop_res_save_dir='./output', use_mp=False, total_process_num=1, process_id=0, benchmark=False, save_log_path='./log_output/', show_log=True, use_onnx=False, return_word_box=False, output='./output', table_max_len=488, table_algorithm='TableAttn', table_model_dir=None, merge_no_span_structure=True, table_char_dict_path=None, layout_model_dir=None, layout_dict_path=None, layout_score_threshold=0.5, layout_nms_threshold=0.5, kie_algorithm='LayoutXLM', ser_model_dir=None, re_model_dir=None, use_visual_backbone=True, ser_dict_path='../train_data/XFUND/class_list_xfun.txt', ocr_order_method=None, mode='structure', image_orientation=False, layout=True, table=True, ocr=True, recovery=False, use_pdf2docx_api=False, invert=False, binarize=False, alphacolor=(255, 255, 255), lang='en', det=True, rec=True, type='ocr', savefile=False, ocr_version='PP-OCRv4', structure_version='PP-StructureV2')\n",
            "[2024/08/11 16:08:36] ppocr DEBUG: dt_boxes num : 11, elapsed : 0.3667168617248535\n",
            "[2024/08/11 16:08:36] ppocr DEBUG: cls num  : 11, elapsed : 0.06395578384399414\n",
            "[2024/08/11 16:08:36] ppocr DEBUG: rec_res num  : 11, elapsed : 0.662513256072998\n",
            "[[[208.0, 70.0], [422.0, 80.0], [372.0, 1018.0], [158.0, 1008.0]], ('CHOCOLATE', 0.9978427886962891)]\n",
            "[[[417.0, 88.0], [600.0, 88.0], [600.0, 155.0], [417.0, 155.0]], ('Amul', 0.9928586483001709)]\n",
            "[[[164.0, 117.0], [202.0, 117.0], [202.0, 135.0], [164.0, 135.0]], ('Plain', 0.9985771179199219)]\n",
            "[[[140.0, 130.0], [215.0, 137.0], [213.0, 155.0], [139.0, 149.0]], ('Chocolate', 0.9821196794509888)]\n",
            "[[[389.0, 141.0], [639.0, 146.0], [629.0, 699.0], [378.0, 694.0]], ('DARK', 0.9977948665618896)]\n",
            "[[[401.0, 720.0], [603.0, 720.0], [603.0, 743.0], [401.0, 743.0]], ('MADE FROM FINEST', 0.9235053062438965)]\n",
            "[[[400.0, 744.0], [607.0, 747.0], [606.0, 780.0], [399.0, 777.0]], ('COCOA BEANS', 0.9578025937080383)]\n",
            "[[[501.0, 873.0], [583.0, 877.0], [581.0, 922.0], [498.0, 918.0]], ('55%', 0.9987554550170898)]\n",
            "[[[498.0, 916.0], [583.0, 919.0], [582.0, 938.0], [497.0, 934.0]], ('Rich in Cocoa', 0.956645131111145)]\n",
            "[[[496.0, 962.0], [587.0, 966.0], [586.0, 988.0], [495.0, 985.0]], ('Natural Source', 0.9587538838386536)]\n",
            "[[[493.0, 985.0], [588.0, 988.0], [587.0, 1007.0], [492.0, 1004.0]], ('ofAntioxidants', 0.9933925867080688)]\n"
          ]
        }
      ]
    },
    {
      "cell_type": "code",
      "source": [
        "from paddleocr import PaddleOCR,draw_ocr\n",
        "# Paddleocr supports Chinese, English, French, German, Korean and Japanese.\n",
        "# You can set the parameter `lang` as `ch`, `en`, `fr`, `german`, `korean`, `japan`\n",
        "# to switch the language model in order.\n",
        "ocr = PaddleOCR(use_angle_cls=True, lang='en') # need to run only once to download and load model into memory\n",
        "img_path = '/content/drive/MyDrive/Paddle_Tut/ppocr_img/Real_life_imgs/pic_text.jpg'\n",
        "result = ocr.ocr(img_path, cls=True)\n",
        "for idx in range(len(result)):\n",
        "    res = result[idx]\n",
        "    for line in res:\n",
        "        print(line)\n",
        "\n",
        "\n",
        "# draw result\n",
        "from PIL import Image\n",
        "result = result[0]\n",
        "image = Image.open(img_path).convert('RGB')\n",
        "boxes = [line[0] for line in result]\n",
        "txts = [line[1][0] for line in result]\n",
        "scores = [line[1][1] for line in result]\n",
        "im_show = draw_ocr(image, boxes, txts, scores, font_path='/content/drive/MyDrive/Paddle_Tut/ppocr_img/fonts/simfang.ttf')\n",
        "im_show = Image.fromarray(im_show)\n",
        "im_show.save('result.jpg')"
      ],
      "metadata": {
        "colab": {
          "base_uri": "https://localhost:8080/"
        },
        "id": "A4_iD7IbPF6I",
        "outputId": "65414963-ab62-4aa7-8a54-925adab73615"
      },
      "execution_count": 34,
      "outputs": [
        {
          "output_type": "stream",
          "name": "stdout",
          "text": [
            "[2024/08/11 16:08:36] ppocr DEBUG: Namespace(help='==SUPPRESS==', use_gpu=False, use_xpu=False, use_npu=False, use_mlu=False, ir_optim=True, use_tensorrt=False, min_subgraph_size=15, precision='fp32', gpu_mem=500, gpu_id=0, image_dir=None, page_num=0, det_algorithm='DB', det_model_dir='/root/.paddleocr/whl/det/en/en_PP-OCRv3_det_infer', det_limit_side_len=960, det_limit_type='max', det_box_type='quad', det_db_thresh=0.3, det_db_box_thresh=0.6, det_db_unclip_ratio=1.5, max_batch_size=10, use_dilation=False, det_db_score_mode='fast', det_east_score_thresh=0.8, det_east_cover_thresh=0.1, det_east_nms_thresh=0.2, det_sast_score_thresh=0.5, det_sast_nms_thresh=0.2, det_pse_thresh=0, det_pse_box_thresh=0.85, det_pse_min_area=16, det_pse_scale=1, scales=[8, 16, 32], alpha=1.0, beta=1.0, fourier_degree=5, rec_algorithm='SVTR_LCNet', rec_model_dir='/root/.paddleocr/whl/rec/en/en_PP-OCRv4_rec_infer', rec_image_inverse=True, rec_image_shape='3, 48, 320', rec_batch_num=6, max_text_length=25, rec_char_dict_path='/usr/local/lib/python3.10/dist-packages/paddleocr/ppocr/utils/en_dict.txt', use_space_char=True, vis_font_path='./doc/fonts/simfang.ttf', drop_score=0.5, e2e_algorithm='PGNet', e2e_model_dir=None, e2e_limit_side_len=768, e2e_limit_type='max', e2e_pgnet_score_thresh=0.5, e2e_char_dict_path='./ppocr/utils/ic15_dict.txt', e2e_pgnet_valid_set='totaltext', e2e_pgnet_mode='fast', use_angle_cls=True, cls_model_dir='/root/.paddleocr/whl/cls/ch_ppocr_mobile_v2.0_cls_infer', cls_image_shape='3, 48, 192', label_list=['0', '180'], cls_batch_num=6, cls_thresh=0.9, enable_mkldnn=False, cpu_threads=10, use_pdserving=False, warmup=False, sr_model_dir=None, sr_image_shape='3, 32, 128', sr_batch_num=1, draw_img_save_dir='./inference_results', save_crop_res=False, crop_res_save_dir='./output', use_mp=False, total_process_num=1, process_id=0, benchmark=False, save_log_path='./log_output/', show_log=True, use_onnx=False, return_word_box=False, output='./output', table_max_len=488, table_algorithm='TableAttn', table_model_dir=None, merge_no_span_structure=True, table_char_dict_path=None, layout_model_dir=None, layout_dict_path=None, layout_score_threshold=0.5, layout_nms_threshold=0.5, kie_algorithm='LayoutXLM', ser_model_dir=None, re_model_dir=None, use_visual_backbone=True, ser_dict_path='../train_data/XFUND/class_list_xfun.txt', ocr_order_method=None, mode='structure', image_orientation=False, layout=True, table=True, ocr=True, recovery=False, use_pdf2docx_api=False, invert=False, binarize=False, alphacolor=(255, 255, 255), lang='en', det=True, rec=True, type='ocr', savefile=False, ocr_version='PP-OCRv4', structure_version='PP-StructureV2')\n",
            "[2024/08/11 16:08:38] ppocr DEBUG: dt_boxes num : 37, elapsed : 0.6458115577697754\n",
            "[2024/08/11 16:08:39] ppocr DEBUG: cls num  : 37, elapsed : 0.22048401832580566\n",
            "[2024/08/11 16:08:42] ppocr DEBUG: rec_res num  : 37, elapsed : 3.051913261413574\n",
            "[[[205.0, 23.0], [435.0, 43.0], [432.0, 77.0], [202.0, 57.0]], ('data/nlu.yml', 0.9417304992675781)]\n",
            "[[[224.0, 130.0], [578.0, 159.0], [575.0, 187.0], [222.0, 158.0]], ('9 lines 280 loc5.68', 0.9121089577674866)]\n",
            "[[[181.0, 204.0], [333.0, 211.0], [331.0, 243.0], [179.0, 236.0]], ('good night', 0.9780322313308716)]\n",
            "[[[180.0, 252.0], [230.0, 252.0], [230.0, 283.0], [180.0, 283.0]], ('bye', 0.9975720047950745)]\n",
            "[[[181.0, 299.0], [287.0, 299.0], [287.0, 332.0], [181.0, 332.0]], ('goodbye', 0.9980525970458984)]\n",
            "[[[183.0, 341.0], [399.0, 355.0], [397.0, 383.0], [181.0, 369.0]], ('have a nice day', 0.9464263916015625)]\n",
            "[[[179.0, 390.0], [384.0, 399.0], [383.0, 426.0], [178.0, 417.0]], ('see you around', 0.9292864203453064)]\n",
            "[[[178.0, 432.0], [286.0, 436.0], [285.0, 468.0], [177.0, 464.0]], ('bye bye', 0.9609262347221375)]\n",
            "[[[179.0, 478.0], [368.0, 484.0], [367.0, 512.0], [178.0, 506.0]], ('see you later', 0.9511051177978516)]\n",
            "[[[178.0, 564.0], [391.0, 572.0], [390.0, 599.0], [177.0, 590.0]], ('have a nice day', 0.941663384437561)]\n",
            "[[[178.0, 606.0], [416.0, 614.0], [415.0, 640.0], [177.0, 633.0]], ('Talk to you later', 0.9513906836509705)]\n",
            "[[[177.0, 649.0], [377.0, 655.0], [377.0, 682.0], [176.0, 676.0]], ('Have to go now', 0.9221218824386597)]\n",
            "[[[117.0, 729.0], [322.0, 732.0], [321.0, 759.0], [116.0, 756.0]], ('intent: affirm', 0.9554871916770935)]\n",
            "[[[123.0, 775.0], [249.0, 775.0], [249.0, 799.0], [123.0, 799.0]], ('examples:', 0.9882746934890747)]\n",
            "[[[169.0, 817.0], [220.0, 817.0], [220.0, 841.0], [169.0, 841.0]], ('yes', 0.9986684322357178)]\n",
            "[[[3.0, 859.0], [15.0, 859.0], [15.0, 876.0], [3.0, 876.0]], ('4', 0.995686411857605)]\n",
            "[[[165.0, 861.0], [193.0, 861.0], [193.0, 880.0], [165.0, 880.0]], ('y', 0.9833942651748657)]\n",
            "[[[3.0, 900.0], [16.0, 900.0], [16.0, 920.0], [3.0, 920.0]], ('5', 0.9599035978317261)]\n",
            "[[[171.0, 892.0], [261.0, 892.0], [261.0, 920.0], [171.0, 920.0]], ('indeed', 0.9973771572113037)]\n",
            "[[[2.0, 936.0], [20.0, 941.0], [14.0, 961.0], [0.0, 956.0]], ('6', 0.9825945496559143)]\n",
            "[[[173.0, 935.0], [299.0, 935.0], [299.0, 957.0], [173.0, 957.0]], ('of course', 0.9576523303985596)]\n",
            "[[[3.0, 980.0], [15.0, 980.0], [15.0, 996.0], [3.0, 996.0]], ('7', 0.9910153746604919)]\n",
            "[[[173.0, 972.0], [390.0, 968.0], [391.0, 995.0], [174.0, 999.0]], ('that sounds good', 0.9731625914573669)]\n",
            "[[[1.0, 1017.0], [19.0, 1017.0], [19.0, 1036.0], [1.0, 1036.0]], ('8', 0.9941940903663635)]\n",
            "[[[173.0, 1011.0], [270.0, 1009.0], [270.0, 1033.0], [174.0, 1035.0]], ('correct', 0.9966452717781067)]\n",
            "[[[173.0, 1050.0], [348.0, 1044.0], [348.0, 1070.0], [174.0, 1076.0]], ('You are right', 0.950533926486969)]\n",
            "[[[172.0, 1085.0], [230.0, 1085.0], [230.0, 1109.0], [172.0, 1109.0]], ('Yeah', 0.9827502965927124)]\n",
            "[[[172.0, 1124.0], [218.0, 1124.0], [218.0, 1148.0], [172.0, 1148.0]], ('Yup', 0.9980841279029846)]\n",
            "[[[1.0, 1168.0], [21.0, 1168.0], [21.0, 1184.0], [1.0, 1184.0]], ('52', 0.8641315698623657)]\n",
            "[[[172.0, 1160.0], [229.0, 1160.0], [229.0, 1184.0], [172.0, 1184.0]], ('Yupp', 0.9969457983970642)]\n",
            "[[[172.0, 1193.0], [278.0, 1192.0], [278.0, 1216.0], [172.0, 1217.0]], ('it helps', 0.971205472946167)]\n",
            "[[[1.0, 1203.0], [21.0, 1203.0], [21.0, 1220.0], [1.0, 1220.0]], ('53', 0.9686412811279297)]\n",
            "[[[171.0, 1229.0], [228.0, 1229.0], [228.0, 1253.0], [171.0, 1253.0]], ('okay', 0.9967269897460938)]\n",
            "[[[8.0, 1241.0], [20.0, 1241.0], [20.0, 1252.0], [8.0, 1252.0]], ('A', 0.7990072965621948)]\n"
          ]
        }
      ]
    },
    {
      "cell_type": "code",
      "source": [
        "from paddleocr import PaddleOCR,draw_ocr\n",
        "# Paddleocr supports Chinese, English, French, German, Korean and Japanese.\n",
        "# You can set the parameter `lang` as `ch`, `en`, `fr`, `german`, `korean`, `japan`\n",
        "# to switch the language model in order.\n",
        "ocr = PaddleOCR(use_angle_cls=True, lang='en') # need to run only once to download and load model into memory\n",
        "img_path = '/content/drive/MyDrive/Paddle_Tut/ppocr_img/Real_life_imgs/images.png'\n",
        "result = ocr.ocr(img_path, cls=True)\n",
        "for idx in range(len(result)):\n",
        "    res = result[idx]\n",
        "    for line in res:\n",
        "        print(line)\n",
        "\n",
        "\n",
        "# draw result\n",
        "from PIL import Image\n",
        "result = result[0]\n",
        "image = Image.open(img_path).convert('RGB')\n",
        "boxes = [line[0] for line in result]\n",
        "txts = [line[1][0] for line in result]\n",
        "scores = [line[1][1] for line in result]\n",
        "im_show = draw_ocr(image, boxes, txts, scores, font_path='/content/drive/MyDrive/Paddle_Tut/ppocr_img/fonts/simfang.ttf')\n",
        "im_show = Image.fromarray(im_show)\n",
        "im_show.save('result.jpg')"
      ],
      "metadata": {
        "colab": {
          "base_uri": "https://localhost:8080/"
        },
        "id": "0nG5WJ77PNrS",
        "outputId": "99c200b7-3b1f-42a4-f0dd-f26baa72f4ef"
      },
      "execution_count": 36,
      "outputs": [
        {
          "output_type": "stream",
          "name": "stdout",
          "text": [
            "[2024/08/11 16:09:05] ppocr DEBUG: Namespace(help='==SUPPRESS==', use_gpu=False, use_xpu=False, use_npu=False, use_mlu=False, ir_optim=True, use_tensorrt=False, min_subgraph_size=15, precision='fp32', gpu_mem=500, gpu_id=0, image_dir=None, page_num=0, det_algorithm='DB', det_model_dir='/root/.paddleocr/whl/det/en/en_PP-OCRv3_det_infer', det_limit_side_len=960, det_limit_type='max', det_box_type='quad', det_db_thresh=0.3, det_db_box_thresh=0.6, det_db_unclip_ratio=1.5, max_batch_size=10, use_dilation=False, det_db_score_mode='fast', det_east_score_thresh=0.8, det_east_cover_thresh=0.1, det_east_nms_thresh=0.2, det_sast_score_thresh=0.5, det_sast_nms_thresh=0.2, det_pse_thresh=0, det_pse_box_thresh=0.85, det_pse_min_area=16, det_pse_scale=1, scales=[8, 16, 32], alpha=1.0, beta=1.0, fourier_degree=5, rec_algorithm='SVTR_LCNet', rec_model_dir='/root/.paddleocr/whl/rec/en/en_PP-OCRv4_rec_infer', rec_image_inverse=True, rec_image_shape='3, 48, 320', rec_batch_num=6, max_text_length=25, rec_char_dict_path='/usr/local/lib/python3.10/dist-packages/paddleocr/ppocr/utils/en_dict.txt', use_space_char=True, vis_font_path='./doc/fonts/simfang.ttf', drop_score=0.5, e2e_algorithm='PGNet', e2e_model_dir=None, e2e_limit_side_len=768, e2e_limit_type='max', e2e_pgnet_score_thresh=0.5, e2e_char_dict_path='./ppocr/utils/ic15_dict.txt', e2e_pgnet_valid_set='totaltext', e2e_pgnet_mode='fast', use_angle_cls=True, cls_model_dir='/root/.paddleocr/whl/cls/ch_ppocr_mobile_v2.0_cls_infer', cls_image_shape='3, 48, 192', label_list=['0', '180'], cls_batch_num=6, cls_thresh=0.9, enable_mkldnn=False, cpu_threads=10, use_pdserving=False, warmup=False, sr_model_dir=None, sr_image_shape='3, 32, 128', sr_batch_num=1, draw_img_save_dir='./inference_results', save_crop_res=False, crop_res_save_dir='./output', use_mp=False, total_process_num=1, process_id=0, benchmark=False, save_log_path='./log_output/', show_log=True, use_onnx=False, return_word_box=False, output='./output', table_max_len=488, table_algorithm='TableAttn', table_model_dir=None, merge_no_span_structure=True, table_char_dict_path=None, layout_model_dir=None, layout_dict_path=None, layout_score_threshold=0.5, layout_nms_threshold=0.5, kie_algorithm='LayoutXLM', ser_model_dir=None, re_model_dir=None, use_visual_backbone=True, ser_dict_path='../train_data/XFUND/class_list_xfun.txt', ocr_order_method=None, mode='structure', image_orientation=False, layout=True, table=True, ocr=True, recovery=False, use_pdf2docx_api=False, invert=False, binarize=False, alphacolor=(255, 255, 255), lang='en', det=True, rec=True, type='ocr', savefile=False, ocr_version='PP-OCRv4', structure_version='PP-StructureV2')\n",
            "[2024/08/11 16:09:10] ppocr DEBUG: dt_boxes num : 8, elapsed : 0.09563016891479492\n",
            "[2024/08/11 16:09:10] ppocr DEBUG: cls num  : 8, elapsed : 0.06261229515075684\n",
            "[2024/08/11 16:09:11] ppocr DEBUG: rec_res num  : 8, elapsed : 0.8289823532104492\n",
            "[[[100.0, 32.0], [208.0, 32.0], [208.0, 45.0], [100.0, 45.0]], ('Waldemar Benner', 0.972935676574707)]\n",
            "[[[80.0, 53.0], [89.0, 53.0], [89.0, 59.0], [80.0, 59.0]], ('M-', 0.6208170652389526)]\n",
            "[[[98.0, 49.0], [249.0, 48.0], [249.0, 61.0], [98.0, 62.0]], ('Structuring Advisory / Financial', 0.9997843503952026)]\n",
            "[[[99.0, 61.0], [241.0, 61.0], [241.0, 74.0], [99.0, 74.0]], ('Modelling / Project Finance at.', 0.9812295436859131)]\n",
            "[[[99.0, 72.0], [172.0, 73.0], [172.0, 85.0], [99.0, 83.0]], ('KfW IPEX-Bank', 0.9863048195838928)]\n",
            "[[[45.0, 97.0], [210.0, 97.0], [210.0, 110.0], [45.0, 110.0]], (\"View Waldemar's profile on The Org\", 0.9963250160217285)]\n",
            "[[[46.0, 132.0], [215.0, 132.0], [215.0, 143.0], [46.0, 143.0]], ('Waldemar Benner has a diverse work.', 0.9799379706382751)]\n",
            "[[[46.0, 149.0], [248.0, 149.0], [248.0, 159.0], [46.0, 159.0]], ('experience spanning multiple industries and', 0.9912359714508057)]\n"
          ]
        }
      ]
    },
    {
      "cell_type": "code",
      "source": [
        "from paddleocr import PaddleOCR,draw_ocr\n",
        "# Paddleocr supports Chinese, English, French, German, Korean and Japanese.\n",
        "# You can set the parameter `lang` as `ch`, `en`, `fr`, `german`, `korean`, `japan`\n",
        "# to switch the language model in order.\n",
        "ocr = PaddleOCR(use_angle_cls=True, lang='en') # need to run only once to download and load model into memory\n",
        "img_path = '/content/drive/MyDrive/Paddle_Tut/ppocr_img/Real_life_imgs/wotd.jpg'\n",
        "result = ocr.ocr(img_path, cls=True)\n",
        "for idx in range(len(result)):\n",
        "    res = result[idx]\n",
        "    for line in res:\n",
        "        print(line)\n",
        "\n",
        "\n",
        "# draw result\n",
        "from PIL import Image\n",
        "result = result[0]\n",
        "image = Image.open(img_path).convert('RGB')\n",
        "boxes = [line[0] for line in result]\n",
        "txts = [line[1][0] for line in result]\n",
        "scores = [line[1][1] for line in result]\n",
        "im_show = draw_ocr(image, boxes, txts, scores, font_path='/content/drive/MyDrive/Paddle_Tut/ppocr_img/fonts/simfang.ttf')\n",
        "im_show = Image.fromarray(im_show)\n",
        "im_show.save('result.jpg')"
      ],
      "metadata": {
        "colab": {
          "base_uri": "https://localhost:8080/"
        },
        "id": "IR4-jq4DPWTt",
        "outputId": "a4b9dac4-6a64-4d20-c513-f16fb3edc9ad"
      },
      "execution_count": 37,
      "outputs": [
        {
          "output_type": "stream",
          "name": "stdout",
          "text": [
            "[2024/08/11 16:09:11] ppocr DEBUG: Namespace(help='==SUPPRESS==', use_gpu=False, use_xpu=False, use_npu=False, use_mlu=False, ir_optim=True, use_tensorrt=False, min_subgraph_size=15, precision='fp32', gpu_mem=500, gpu_id=0, image_dir=None, page_num=0, det_algorithm='DB', det_model_dir='/root/.paddleocr/whl/det/en/en_PP-OCRv3_det_infer', det_limit_side_len=960, det_limit_type='max', det_box_type='quad', det_db_thresh=0.3, det_db_box_thresh=0.6, det_db_unclip_ratio=1.5, max_batch_size=10, use_dilation=False, det_db_score_mode='fast', det_east_score_thresh=0.8, det_east_cover_thresh=0.1, det_east_nms_thresh=0.2, det_sast_score_thresh=0.5, det_sast_nms_thresh=0.2, det_pse_thresh=0, det_pse_box_thresh=0.85, det_pse_min_area=16, det_pse_scale=1, scales=[8, 16, 32], alpha=1.0, beta=1.0, fourier_degree=5, rec_algorithm='SVTR_LCNet', rec_model_dir='/root/.paddleocr/whl/rec/en/en_PP-OCRv4_rec_infer', rec_image_inverse=True, rec_image_shape='3, 48, 320', rec_batch_num=6, max_text_length=25, rec_char_dict_path='/usr/local/lib/python3.10/dist-packages/paddleocr/ppocr/utils/en_dict.txt', use_space_char=True, vis_font_path='./doc/fonts/simfang.ttf', drop_score=0.5, e2e_algorithm='PGNet', e2e_model_dir=None, e2e_limit_side_len=768, e2e_limit_type='max', e2e_pgnet_score_thresh=0.5, e2e_char_dict_path='./ppocr/utils/ic15_dict.txt', e2e_pgnet_valid_set='totaltext', e2e_pgnet_mode='fast', use_angle_cls=True, cls_model_dir='/root/.paddleocr/whl/cls/ch_ppocr_mobile_v2.0_cls_infer', cls_image_shape='3, 48, 192', label_list=['0', '180'], cls_batch_num=6, cls_thresh=0.9, enable_mkldnn=False, cpu_threads=10, use_pdserving=False, warmup=False, sr_model_dir=None, sr_image_shape='3, 32, 128', sr_batch_num=1, draw_img_save_dir='./inference_results', save_crop_res=False, crop_res_save_dir='./output', use_mp=False, total_process_num=1, process_id=0, benchmark=False, save_log_path='./log_output/', show_log=True, use_onnx=False, return_word_box=False, output='./output', table_max_len=488, table_algorithm='TableAttn', table_model_dir=None, merge_no_span_structure=True, table_char_dict_path=None, layout_model_dir=None, layout_dict_path=None, layout_score_threshold=0.5, layout_nms_threshold=0.5, kie_algorithm='LayoutXLM', ser_model_dir=None, re_model_dir=None, use_visual_backbone=True, ser_dict_path='../train_data/XFUND/class_list_xfun.txt', ocr_order_method=None, mode='structure', image_orientation=False, layout=True, table=True, ocr=True, recovery=False, use_pdf2docx_api=False, invert=False, binarize=False, alphacolor=(255, 255, 255), lang='en', det=True, rec=True, type='ocr', savefile=False, ocr_version='PP-OCRv4', structure_version='PP-StructureV2')\n",
            "[2024/08/11 16:09:12] ppocr DEBUG: dt_boxes num : 13, elapsed : 0.4263322353363037\n",
            "[2024/08/11 16:09:12] ppocr DEBUG: cls num  : 13, elapsed : 0.0824894905090332\n",
            "[2024/08/11 16:09:14] ppocr DEBUG: rec_res num  : 13, elapsed : 1.243344783782959\n",
            "[[[78.0, 84.0], [518.0, 84.0], [518.0, 110.0], [78.0, 110.0]], ('TUESDAY,FEBRUARY06,2024', 0.967405378818512)]\n",
            "[[[78.0, 170.0], [610.0, 170.0], [610.0, 241.0], [78.0, 241.0]], ('amalgamate', 0.9978782534599304)]\n",
            "[[[76.0, 271.0], [380.0, 273.0], [380.0, 310.0], [75.0, 307.0]], ('[ uh-mal-guh-meyt ]', 0.9689367413520813)]\n",
            "[[[75.0, 332.0], [225.0, 332.0], [225.0, 360.0], [75.0, 360.0]], ('SHOW IPA', 0.9647670388221741)]\n",
            "[[[90.0, 393.0], [116.0, 393.0], [116.0, 417.0], [90.0, 417.0]], ('D', 0.8947737812995911)]\n",
            "[[[72.0, 493.0], [136.0, 488.0], [138.0, 518.0], [75.0, 524.0]], ('verb', 0.9934914708137512)]\n",
            "[[[75.0, 566.0], [531.0, 566.0], [531.0, 592.0], [75.0, 592.0]], ('to mix or merge so as to make a', 0.9040789604187012)]\n",
            "[[[78.0, 601.0], [434.0, 601.0], [434.0, 628.0], [78.0, 628.0]], ('combination;blend;unite', 0.9607083797454834)]\n",
            "[[[72.0, 691.0], [161.0, 695.0], [159.0, 727.0], [71.0, 724.0]], ('LOOK', 0.9974836707115173)]\n",
            "[[[74.0, 728.0], [156.0, 728.0], [156.0, 757.0], [74.0, 757.0]], ('ITUP', 0.994160532951355)]\n",
            "[[[77.0, 851.0], [233.0, 851.0], [233.0, 877.0], [77.0, 877.0]], ('LEARN MORE', 0.9709459543228149)]\n",
            "[[[220.0, 1214.0], [500.0, 1214.0], [500.0, 1241.0], [220.0, 1241.0]], ('LEARN ABOUT THE', 0.956037163734436)]\n"
          ]
        }
      ]
    },
    {
      "cell_type": "code",
      "source": [],
      "metadata": {
        "id": "byildlJmgPLu"
      },
      "execution_count": null,
      "outputs": []
    }
  ]
}